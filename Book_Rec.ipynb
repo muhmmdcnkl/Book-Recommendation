{
 "cells": [
  {
   "cell_type": "code",
   "execution_count": null,
   "metadata": {},
   "outputs": [],
   "source": [
    "#import module\n",
    "from pyspark.ml.recommendation import ALS\n",
    "from pyspark.sql import SparkSession\n",
    "\n",
    "#create session\n",
    "appName = \"Recommender system in Spark\"\n",
    "spark = SparkSession \\\n",
    "    .builder \\\n",
    "    .appName(appName) \\\n",
    "    .config(\"spark.some.config.option\", \"some-value\") \\\n",
    "    .getOrCreate()"
   ]
  },
  {
   "cell_type": "code",
   "execution_count": 3,
   "metadata": {},
   "outputs": [
    {
     "name": "stdout",
     "output_type": "stream",
     "text": [
      "Hostname:   Nirvana\n",
      "IP Address:  169.254.61.176\n"
     ]
    }
   ],
   "source": [
    "#computer info\n",
    "import socket\n",
    "def host_IP():\n",
    "   try:\n",
    "      hname = socket.gethostname()\n",
    "      hip = socket.gethostbyname(hname)\n",
    "      print(\"Hostname:  \",hname)\n",
    "      print(\"IP Address: \",hip)\n",
    "   except:\n",
    "      print(\"Unable to get Hostname and IP\")\n",
    "host_IP() "
   ]
  },
  {
   "cell_type": "code",
   "execution_count": 4,
   "metadata": {},
   "outputs": [],
   "source": [
    "#read data with panda\n",
    "import pandas as pd \n",
    "import os\n",
    "\n",
    "#reading books file\n",
    "books = pd.read_csv('books.csv')"
   ]
  },
  {
   "cell_type": "code",
   "execution_count": 5,
   "metadata": {},
   "outputs": [
    {
     "data": {
      "text/html": [
       "<div>\n",
       "<style scoped>\n",
       "    .dataframe tbody tr th:only-of-type {\n",
       "        vertical-align: middle;\n",
       "    }\n",
       "\n",
       "    .dataframe tbody tr th {\n",
       "        vertical-align: top;\n",
       "    }\n",
       "\n",
       "    .dataframe thead th {\n",
       "        text-align: right;\n",
       "    }\n",
       "</style>\n",
       "<table border=\"1\" class=\"dataframe\">\n",
       "  <thead>\n",
       "    <tr style=\"text-align: right;\">\n",
       "      <th></th>\n",
       "      <th>book_id</th>\n",
       "      <th>goodreads_book_id</th>\n",
       "      <th>best_book_id</th>\n",
       "      <th>work_id</th>\n",
       "      <th>books_count</th>\n",
       "      <th>isbn</th>\n",
       "      <th>isbn13</th>\n",
       "      <th>authors</th>\n",
       "      <th>original_publication_year</th>\n",
       "      <th>original_title</th>\n",
       "      <th>...</th>\n",
       "      <th>ratings_count</th>\n",
       "      <th>work_ratings_count</th>\n",
       "      <th>work_text_reviews_count</th>\n",
       "      <th>ratings_1</th>\n",
       "      <th>ratings_2</th>\n",
       "      <th>ratings_3</th>\n",
       "      <th>ratings_4</th>\n",
       "      <th>ratings_5</th>\n",
       "      <th>image_url</th>\n",
       "      <th>small_image_url</th>\n",
       "    </tr>\n",
       "  </thead>\n",
       "  <tbody>\n",
       "    <tr>\n",
       "      <th>0</th>\n",
       "      <td>1</td>\n",
       "      <td>2767052</td>\n",
       "      <td>2767052</td>\n",
       "      <td>2792775</td>\n",
       "      <td>272</td>\n",
       "      <td>439023483</td>\n",
       "      <td>9.780439e+12</td>\n",
       "      <td>Suzanne Collins</td>\n",
       "      <td>2008.0</td>\n",
       "      <td>The Hunger Games</td>\n",
       "      <td>...</td>\n",
       "      <td>4780653</td>\n",
       "      <td>4942365</td>\n",
       "      <td>155254</td>\n",
       "      <td>66715</td>\n",
       "      <td>127936</td>\n",
       "      <td>560092</td>\n",
       "      <td>1481305</td>\n",
       "      <td>2706317</td>\n",
       "      <td>https://images.gr-assets.com/books/1447303603m...</td>\n",
       "      <td>https://images.gr-assets.com/books/1447303603s...</td>\n",
       "    </tr>\n",
       "    <tr>\n",
       "      <th>1</th>\n",
       "      <td>2</td>\n",
       "      <td>3</td>\n",
       "      <td>3</td>\n",
       "      <td>4640799</td>\n",
       "      <td>491</td>\n",
       "      <td>439554934</td>\n",
       "      <td>9.780440e+12</td>\n",
       "      <td>J.K. Rowling, Mary GrandPré</td>\n",
       "      <td>1997.0</td>\n",
       "      <td>Harry Potter and the Philosopher's Stone</td>\n",
       "      <td>...</td>\n",
       "      <td>4602479</td>\n",
       "      <td>4800065</td>\n",
       "      <td>75867</td>\n",
       "      <td>75504</td>\n",
       "      <td>101676</td>\n",
       "      <td>455024</td>\n",
       "      <td>1156318</td>\n",
       "      <td>3011543</td>\n",
       "      <td>https://images.gr-assets.com/books/1474154022m...</td>\n",
       "      <td>https://images.gr-assets.com/books/1474154022s...</td>\n",
       "    </tr>\n",
       "    <tr>\n",
       "      <th>2</th>\n",
       "      <td>3</td>\n",
       "      <td>41865</td>\n",
       "      <td>41865</td>\n",
       "      <td>3212258</td>\n",
       "      <td>226</td>\n",
       "      <td>316015849</td>\n",
       "      <td>9.780316e+12</td>\n",
       "      <td>Stephenie Meyer</td>\n",
       "      <td>2005.0</td>\n",
       "      <td>Twilight</td>\n",
       "      <td>...</td>\n",
       "      <td>3866839</td>\n",
       "      <td>3916824</td>\n",
       "      <td>95009</td>\n",
       "      <td>456191</td>\n",
       "      <td>436802</td>\n",
       "      <td>793319</td>\n",
       "      <td>875073</td>\n",
       "      <td>1355439</td>\n",
       "      <td>https://images.gr-assets.com/books/1361039443m...</td>\n",
       "      <td>https://images.gr-assets.com/books/1361039443s...</td>\n",
       "    </tr>\n",
       "    <tr>\n",
       "      <th>3</th>\n",
       "      <td>4</td>\n",
       "      <td>2657</td>\n",
       "      <td>2657</td>\n",
       "      <td>3275794</td>\n",
       "      <td>487</td>\n",
       "      <td>61120081</td>\n",
       "      <td>9.780061e+12</td>\n",
       "      <td>Harper Lee</td>\n",
       "      <td>1960.0</td>\n",
       "      <td>To Kill a Mockingbird</td>\n",
       "      <td>...</td>\n",
       "      <td>3198671</td>\n",
       "      <td>3340896</td>\n",
       "      <td>72586</td>\n",
       "      <td>60427</td>\n",
       "      <td>117415</td>\n",
       "      <td>446835</td>\n",
       "      <td>1001952</td>\n",
       "      <td>1714267</td>\n",
       "      <td>https://images.gr-assets.com/books/1361975680m...</td>\n",
       "      <td>https://images.gr-assets.com/books/1361975680s...</td>\n",
       "    </tr>\n",
       "    <tr>\n",
       "      <th>4</th>\n",
       "      <td>5</td>\n",
       "      <td>4671</td>\n",
       "      <td>4671</td>\n",
       "      <td>245494</td>\n",
       "      <td>1356</td>\n",
       "      <td>743273567</td>\n",
       "      <td>9.780743e+12</td>\n",
       "      <td>F. Scott Fitzgerald</td>\n",
       "      <td>1925.0</td>\n",
       "      <td>The Great Gatsby</td>\n",
       "      <td>...</td>\n",
       "      <td>2683664</td>\n",
       "      <td>2773745</td>\n",
       "      <td>51992</td>\n",
       "      <td>86236</td>\n",
       "      <td>197621</td>\n",
       "      <td>606158</td>\n",
       "      <td>936012</td>\n",
       "      <td>947718</td>\n",
       "      <td>https://images.gr-assets.com/books/1490528560m...</td>\n",
       "      <td>https://images.gr-assets.com/books/1490528560s...</td>\n",
       "    </tr>\n",
       "    <tr>\n",
       "      <th>...</th>\n",
       "      <td>...</td>\n",
       "      <td>...</td>\n",
       "      <td>...</td>\n",
       "      <td>...</td>\n",
       "      <td>...</td>\n",
       "      <td>...</td>\n",
       "      <td>...</td>\n",
       "      <td>...</td>\n",
       "      <td>...</td>\n",
       "      <td>...</td>\n",
       "      <td>...</td>\n",
       "      <td>...</td>\n",
       "      <td>...</td>\n",
       "      <td>...</td>\n",
       "      <td>...</td>\n",
       "      <td>...</td>\n",
       "      <td>...</td>\n",
       "      <td>...</td>\n",
       "      <td>...</td>\n",
       "      <td>...</td>\n",
       "      <td>...</td>\n",
       "    </tr>\n",
       "    <tr>\n",
       "      <th>9995</th>\n",
       "      <td>9996</td>\n",
       "      <td>7130616</td>\n",
       "      <td>7130616</td>\n",
       "      <td>7392860</td>\n",
       "      <td>19</td>\n",
       "      <td>441019455</td>\n",
       "      <td>9.780441e+12</td>\n",
       "      <td>Ilona Andrews</td>\n",
       "      <td>2010.0</td>\n",
       "      <td>Bayou Moon</td>\n",
       "      <td>...</td>\n",
       "      <td>17204</td>\n",
       "      <td>18856</td>\n",
       "      <td>1180</td>\n",
       "      <td>105</td>\n",
       "      <td>575</td>\n",
       "      <td>3538</td>\n",
       "      <td>7860</td>\n",
       "      <td>6778</td>\n",
       "      <td>https://images.gr-assets.com/books/1307445460m...</td>\n",
       "      <td>https://images.gr-assets.com/books/1307445460s...</td>\n",
       "    </tr>\n",
       "    <tr>\n",
       "      <th>9996</th>\n",
       "      <td>9997</td>\n",
       "      <td>208324</td>\n",
       "      <td>208324</td>\n",
       "      <td>1084709</td>\n",
       "      <td>19</td>\n",
       "      <td>067973371X</td>\n",
       "      <td>9.780680e+12</td>\n",
       "      <td>Robert A. Caro</td>\n",
       "      <td>1990.0</td>\n",
       "      <td>Means of Ascent</td>\n",
       "      <td>...</td>\n",
       "      <td>12582</td>\n",
       "      <td>12952</td>\n",
       "      <td>395</td>\n",
       "      <td>303</td>\n",
       "      <td>551</td>\n",
       "      <td>1737</td>\n",
       "      <td>3389</td>\n",
       "      <td>6972</td>\n",
       "      <td>https://s.gr-assets.com/assets/nophoto/book/11...</td>\n",
       "      <td>https://s.gr-assets.com/assets/nophoto/book/50...</td>\n",
       "    </tr>\n",
       "    <tr>\n",
       "      <th>9997</th>\n",
       "      <td>9998</td>\n",
       "      <td>77431</td>\n",
       "      <td>77431</td>\n",
       "      <td>2393986</td>\n",
       "      <td>60</td>\n",
       "      <td>039330762X</td>\n",
       "      <td>9.780393e+12</td>\n",
       "      <td>Patrick O'Brian</td>\n",
       "      <td>1977.0</td>\n",
       "      <td>The Mauritius Command</td>\n",
       "      <td>...</td>\n",
       "      <td>9421</td>\n",
       "      <td>10733</td>\n",
       "      <td>374</td>\n",
       "      <td>11</td>\n",
       "      <td>111</td>\n",
       "      <td>1191</td>\n",
       "      <td>4240</td>\n",
       "      <td>5180</td>\n",
       "      <td>https://images.gr-assets.com/books/1455373531m...</td>\n",
       "      <td>https://images.gr-assets.com/books/1455373531s...</td>\n",
       "    </tr>\n",
       "    <tr>\n",
       "      <th>9998</th>\n",
       "      <td>9999</td>\n",
       "      <td>8565083</td>\n",
       "      <td>8565083</td>\n",
       "      <td>13433613</td>\n",
       "      <td>7</td>\n",
       "      <td>61711527</td>\n",
       "      <td>9.780062e+12</td>\n",
       "      <td>Peggy Orenstein</td>\n",
       "      <td>2011.0</td>\n",
       "      <td>Cinderella Ate My Daughter: Dispatches from th...</td>\n",
       "      <td>...</td>\n",
       "      <td>11279</td>\n",
       "      <td>11994</td>\n",
       "      <td>1988</td>\n",
       "      <td>275</td>\n",
       "      <td>1002</td>\n",
       "      <td>3765</td>\n",
       "      <td>4577</td>\n",
       "      <td>2375</td>\n",
       "      <td>https://images.gr-assets.com/books/1279214118m...</td>\n",
       "      <td>https://images.gr-assets.com/books/1279214118s...</td>\n",
       "    </tr>\n",
       "    <tr>\n",
       "      <th>9999</th>\n",
       "      <td>10000</td>\n",
       "      <td>8914</td>\n",
       "      <td>8914</td>\n",
       "      <td>11817</td>\n",
       "      <td>31</td>\n",
       "      <td>375700455</td>\n",
       "      <td>9.780376e+12</td>\n",
       "      <td>John Keegan</td>\n",
       "      <td>1998.0</td>\n",
       "      <td>The First World War</td>\n",
       "      <td>...</td>\n",
       "      <td>9162</td>\n",
       "      <td>9700</td>\n",
       "      <td>364</td>\n",
       "      <td>117</td>\n",
       "      <td>345</td>\n",
       "      <td>2031</td>\n",
       "      <td>4138</td>\n",
       "      <td>3069</td>\n",
       "      <td>https://images.gr-assets.com/books/1403194704m...</td>\n",
       "      <td>https://images.gr-assets.com/books/1403194704s...</td>\n",
       "    </tr>\n",
       "  </tbody>\n",
       "</table>\n",
       "<p>10000 rows × 23 columns</p>\n",
       "</div>"
      ],
      "text/plain": [
       "      book_id  goodreads_book_id  best_book_id   work_id  books_count  \\\n",
       "0           1            2767052       2767052   2792775          272   \n",
       "1           2                  3             3   4640799          491   \n",
       "2           3              41865         41865   3212258          226   \n",
       "3           4               2657          2657   3275794          487   \n",
       "4           5               4671          4671    245494         1356   \n",
       "...       ...                ...           ...       ...          ...   \n",
       "9995     9996            7130616       7130616   7392860           19   \n",
       "9996     9997             208324        208324   1084709           19   \n",
       "9997     9998              77431         77431   2393986           60   \n",
       "9998     9999            8565083       8565083  13433613            7   \n",
       "9999    10000               8914          8914     11817           31   \n",
       "\n",
       "            isbn        isbn13                      authors  \\\n",
       "0      439023483  9.780439e+12              Suzanne Collins   \n",
       "1      439554934  9.780440e+12  J.K. Rowling, Mary GrandPré   \n",
       "2      316015849  9.780316e+12              Stephenie Meyer   \n",
       "3       61120081  9.780061e+12                   Harper Lee   \n",
       "4      743273567  9.780743e+12          F. Scott Fitzgerald   \n",
       "...          ...           ...                          ...   \n",
       "9995   441019455  9.780441e+12                Ilona Andrews   \n",
       "9996  067973371X  9.780680e+12               Robert A. Caro   \n",
       "9997  039330762X  9.780393e+12              Patrick O'Brian   \n",
       "9998    61711527  9.780062e+12              Peggy Orenstein   \n",
       "9999   375700455  9.780376e+12                  John Keegan   \n",
       "\n",
       "      original_publication_year  \\\n",
       "0                        2008.0   \n",
       "1                        1997.0   \n",
       "2                        2005.0   \n",
       "3                        1960.0   \n",
       "4                        1925.0   \n",
       "...                         ...   \n",
       "9995                     2010.0   \n",
       "9996                     1990.0   \n",
       "9997                     1977.0   \n",
       "9998                     2011.0   \n",
       "9999                     1998.0   \n",
       "\n",
       "                                         original_title  ... ratings_count  \\\n",
       "0                                      The Hunger Games  ...       4780653   \n",
       "1              Harry Potter and the Philosopher's Stone  ...       4602479   \n",
       "2                                              Twilight  ...       3866839   \n",
       "3                                 To Kill a Mockingbird  ...       3198671   \n",
       "4                                      The Great Gatsby  ...       2683664   \n",
       "...                                                 ...  ...           ...   \n",
       "9995                                         Bayou Moon  ...         17204   \n",
       "9996                                   Means of Ascent   ...         12582   \n",
       "9997                              The Mauritius Command  ...          9421   \n",
       "9998  Cinderella Ate My Daughter: Dispatches from th...  ...         11279   \n",
       "9999                                The First World War  ...          9162   \n",
       "\n",
       "     work_ratings_count  work_text_reviews_count  ratings_1  ratings_2  \\\n",
       "0               4942365                   155254      66715     127936   \n",
       "1               4800065                    75867      75504     101676   \n",
       "2               3916824                    95009     456191     436802   \n",
       "3               3340896                    72586      60427     117415   \n",
       "4               2773745                    51992      86236     197621   \n",
       "...                 ...                      ...        ...        ...   \n",
       "9995              18856                     1180        105        575   \n",
       "9996              12952                      395        303        551   \n",
       "9997              10733                      374         11        111   \n",
       "9998              11994                     1988        275       1002   \n",
       "9999               9700                      364        117        345   \n",
       "\n",
       "      ratings_3  ratings_4  ratings_5  \\\n",
       "0        560092    1481305    2706317   \n",
       "1        455024    1156318    3011543   \n",
       "2        793319     875073    1355439   \n",
       "3        446835    1001952    1714267   \n",
       "4        606158     936012     947718   \n",
       "...         ...        ...        ...   \n",
       "9995       3538       7860       6778   \n",
       "9996       1737       3389       6972   \n",
       "9997       1191       4240       5180   \n",
       "9998       3765       4577       2375   \n",
       "9999       2031       4138       3069   \n",
       "\n",
       "                                              image_url  \\\n",
       "0     https://images.gr-assets.com/books/1447303603m...   \n",
       "1     https://images.gr-assets.com/books/1474154022m...   \n",
       "2     https://images.gr-assets.com/books/1361039443m...   \n",
       "3     https://images.gr-assets.com/books/1361975680m...   \n",
       "4     https://images.gr-assets.com/books/1490528560m...   \n",
       "...                                                 ...   \n",
       "9995  https://images.gr-assets.com/books/1307445460m...   \n",
       "9996  https://s.gr-assets.com/assets/nophoto/book/11...   \n",
       "9997  https://images.gr-assets.com/books/1455373531m...   \n",
       "9998  https://images.gr-assets.com/books/1279214118m...   \n",
       "9999  https://images.gr-assets.com/books/1403194704m...   \n",
       "\n",
       "                                        small_image_url  \n",
       "0     https://images.gr-assets.com/books/1447303603s...  \n",
       "1     https://images.gr-assets.com/books/1474154022s...  \n",
       "2     https://images.gr-assets.com/books/1361039443s...  \n",
       "3     https://images.gr-assets.com/books/1361975680s...  \n",
       "4     https://images.gr-assets.com/books/1490528560s...  \n",
       "...                                                 ...  \n",
       "9995  https://images.gr-assets.com/books/1307445460s...  \n",
       "9996  https://s.gr-assets.com/assets/nophoto/book/50...  \n",
       "9997  https://images.gr-assets.com/books/1455373531s...  \n",
       "9998  https://images.gr-assets.com/books/1279214118s...  \n",
       "9999  https://images.gr-assets.com/books/1403194704s...  \n",
       "\n",
       "[10000 rows x 23 columns]"
      ]
     },
     "execution_count": 5,
     "metadata": {},
     "output_type": "execute_result"
    }
   ],
   "source": [
    "#list of books data\n",
    "pd.read_csv('books.csv')"
   ]
  },
  {
   "cell_type": "code",
   "execution_count": 6,
   "metadata": {},
   "outputs": [],
   "source": [
    "#reading ratings file\n",
    "ratings = pd.read_csv('ratings.csv')"
   ]
  },
  {
   "cell_type": "code",
   "execution_count": 7,
   "metadata": {},
   "outputs": [
    {
     "data": {
      "text/html": [
       "<div>\n",
       "<style scoped>\n",
       "    .dataframe tbody tr th:only-of-type {\n",
       "        vertical-align: middle;\n",
       "    }\n",
       "\n",
       "    .dataframe tbody tr th {\n",
       "        vertical-align: top;\n",
       "    }\n",
       "\n",
       "    .dataframe thead th {\n",
       "        text-align: right;\n",
       "    }\n",
       "</style>\n",
       "<table border=\"1\" class=\"dataframe\">\n",
       "  <thead>\n",
       "    <tr style=\"text-align: right;\">\n",
       "      <th></th>\n",
       "      <th>user_id</th>\n",
       "      <th>book_id</th>\n",
       "      <th>rating</th>\n",
       "    </tr>\n",
       "  </thead>\n",
       "  <tbody>\n",
       "    <tr>\n",
       "      <th>0</th>\n",
       "      <td>1</td>\n",
       "      <td>258</td>\n",
       "      <td>5</td>\n",
       "    </tr>\n",
       "    <tr>\n",
       "      <th>1</th>\n",
       "      <td>2</td>\n",
       "      <td>4081</td>\n",
       "      <td>4</td>\n",
       "    </tr>\n",
       "    <tr>\n",
       "      <th>2</th>\n",
       "      <td>2</td>\n",
       "      <td>260</td>\n",
       "      <td>5</td>\n",
       "    </tr>\n",
       "    <tr>\n",
       "      <th>3</th>\n",
       "      <td>2</td>\n",
       "      <td>9296</td>\n",
       "      <td>5</td>\n",
       "    </tr>\n",
       "    <tr>\n",
       "      <th>4</th>\n",
       "      <td>2</td>\n",
       "      <td>2318</td>\n",
       "      <td>3</td>\n",
       "    </tr>\n",
       "    <tr>\n",
       "      <th>...</th>\n",
       "      <td>...</td>\n",
       "      <td>...</td>\n",
       "      <td>...</td>\n",
       "    </tr>\n",
       "    <tr>\n",
       "      <th>5976474</th>\n",
       "      <td>49925</td>\n",
       "      <td>510</td>\n",
       "      <td>5</td>\n",
       "    </tr>\n",
       "    <tr>\n",
       "      <th>5976475</th>\n",
       "      <td>49925</td>\n",
       "      <td>528</td>\n",
       "      <td>4</td>\n",
       "    </tr>\n",
       "    <tr>\n",
       "      <th>5976476</th>\n",
       "      <td>49925</td>\n",
       "      <td>722</td>\n",
       "      <td>4</td>\n",
       "    </tr>\n",
       "    <tr>\n",
       "      <th>5976477</th>\n",
       "      <td>49925</td>\n",
       "      <td>949</td>\n",
       "      <td>5</td>\n",
       "    </tr>\n",
       "    <tr>\n",
       "      <th>5976478</th>\n",
       "      <td>49925</td>\n",
       "      <td>1023</td>\n",
       "      <td>4</td>\n",
       "    </tr>\n",
       "  </tbody>\n",
       "</table>\n",
       "<p>5976479 rows × 3 columns</p>\n",
       "</div>"
      ],
      "text/plain": [
       "         user_id  book_id  rating\n",
       "0              1      258       5\n",
       "1              2     4081       4\n",
       "2              2      260       5\n",
       "3              2     9296       5\n",
       "4              2     2318       3\n",
       "...          ...      ...     ...\n",
       "5976474    49925      510       5\n",
       "5976475    49925      528       4\n",
       "5976476    49925      722       4\n",
       "5976477    49925      949       5\n",
       "5976478    49925     1023       4\n",
       "\n",
       "[5976479 rows x 3 columns]"
      ]
     },
     "execution_count": 7,
     "metadata": {},
     "output_type": "execute_result"
    }
   ],
   "source": [
    "#list of ratings data\n",
    "pd.read_csv('ratings.csv')"
   ]
  },
  {
   "cell_type": "code",
   "execution_count": 8,
   "metadata": {},
   "outputs": [
    {
     "name": "stderr",
     "output_type": "stream",
     "text": [
      "<ipython-input-8-eca808a0b44c>:5: FutureWarning: The default value of regex will change from True to False in a future version.\n",
      "  most_ratings[\"img_html\"] = most_ratings[\"image_url\"]\\\n"
     ]
    },
    {
     "data": {
      "text/html": [
       "<table border=\"1\" class=\"dataframe\">\n",
       "  <thead>\n",
       "    <tr style=\"text-align: right;\">\n",
       "      <th></th>\n",
       "      <th>original_title</th>\n",
       "      <th>img_html</th>\n",
       "      <th>ratings_count</th>\n",
       "      <th>average_rating</th>\n",
       "    </tr>\n",
       "  </thead>\n",
       "  <tbody>\n",
       "    <tr>\n",
       "      <th>0</th>\n",
       "      <td>The Hunger Games</td>\n",
       "      <td><img src=”https://images.gr-assets.com/books/1447303603m/2767052.jpg” style=”max-height:124px;”></img><img src=”” style=”max-height:124px;”></img></td>\n",
       "      <td>4780653</td>\n",
       "      <td>4.34</td>\n",
       "    </tr>\n",
       "    <tr>\n",
       "      <th>1</th>\n",
       "      <td>Harry Potter and the Philosopher's Stone</td>\n",
       "      <td><img src=”https://images.gr-assets.com/books/1474154022m/3.jpg” style=”max-height:124px;”></img><img src=”” style=”max-height:124px;”></img></td>\n",
       "      <td>4602479</td>\n",
       "      <td>4.44</td>\n",
       "    </tr>\n",
       "    <tr>\n",
       "      <th>2</th>\n",
       "      <td>Twilight</td>\n",
       "      <td><img src=”https://images.gr-assets.com/books/1361039443m/41865.jpg” style=”max-height:124px;”></img><img src=”” style=”max-height:124px;”></img></td>\n",
       "      <td>3866839</td>\n",
       "      <td>3.57</td>\n",
       "    </tr>\n",
       "    <tr>\n",
       "      <th>3</th>\n",
       "      <td>To Kill a Mockingbird</td>\n",
       "      <td><img src=”https://images.gr-assets.com/books/1361975680m/2657.jpg” style=”max-height:124px;”></img><img src=”” style=”max-height:124px;”></img></td>\n",
       "      <td>3198671</td>\n",
       "      <td>4.25</td>\n",
       "    </tr>\n",
       "    <tr>\n",
       "      <th>4</th>\n",
       "      <td>The Great Gatsby</td>\n",
       "      <td><img src=”https://images.gr-assets.com/books/1490528560m/4671.jpg” style=”max-height:124px;”></img><img src=”” style=”max-height:124px;”></img></td>\n",
       "      <td>2683664</td>\n",
       "      <td>3.89</td>\n",
       "    </tr>\n",
       "    <tr>\n",
       "      <th>5</th>\n",
       "      <td>The Fault in Our Stars</td>\n",
       "      <td><img src=”https://images.gr-assets.com/books/1360206420m/11870085.jpg” style=”max-height:124px;”></img><img src=”” style=”max-height:124px;”></img></td>\n",
       "      <td>2346404</td>\n",
       "      <td>4.26</td>\n",
       "    </tr>\n",
       "    <tr>\n",
       "      <th>6</th>\n",
       "      <td>The Hobbit or There and Back Again</td>\n",
       "      <td><img src=”https://images.gr-assets.com/books/1372847500m/5907.jpg” style=”max-height:124px;”></img><img src=”” style=”max-height:124px;”></img></td>\n",
       "      <td>2071616</td>\n",
       "      <td>4.25</td>\n",
       "    </tr>\n",
       "    <tr>\n",
       "      <th>7</th>\n",
       "      <td>The Catcher in the Rye</td>\n",
       "      <td><img src=”https://images.gr-assets.com/books/1398034300m/5107.jpg” style=”max-height:124px;”></img><img src=”” style=”max-height:124px;”></img></td>\n",
       "      <td>2044241</td>\n",
       "      <td>3.79</td>\n",
       "    </tr>\n",
       "    <tr>\n",
       "      <th>9</th>\n",
       "      <td>Pride and Prejudice</td>\n",
       "      <td><img src=”https://images.gr-assets.com/books/1320399351m/1885.jpg” style=”max-height:124px;”></img><img src=”” style=”max-height:124px;”></img></td>\n",
       "      <td>2035490</td>\n",
       "      <td>4.24</td>\n",
       "    </tr>\n",
       "    <tr>\n",
       "      <th>8</th>\n",
       "      <td>Angels & Demons</td>\n",
       "      <td><img src=”https://images.gr-assets.com/books/1303390735m/960.jpg” style=”max-height:124px;”></img><img src=”” style=”max-height:124px;”></img></td>\n",
       "      <td>2001311</td>\n",
       "      <td>3.85</td>\n",
       "    </tr>\n",
       "  </tbody>\n",
       "</table>"
      ],
      "text/plain": [
       "<IPython.core.display.HTML object>"
      ]
     },
     "metadata": {},
     "output_type": "display_data"
    }
   ],
   "source": [
    "#best ratings count\n",
    "most_ratings=books.sort_values(by = \"ratings_count\", ascending = False)[[\"original_title\",\"ratings_count\", \"average_rating\", \"image_url\" ]][0:10]\n",
    "import pandas as pd\n",
    "from IPython.display import Image, HTML\n",
    "most_ratings[\"img_html\"] = most_ratings[\"image_url\"]\\\n",
    " .str.replace(\n",
    " \"(.*)\", \n",
    " \"<img src=”\\\\1” style=”max-height:124px;”></img>\"\n",
    ")\n",
    "with pd.option_context(\"display.max_colwidth\", 10000):\n",
    "    display(HTML(most_ratings[[\"original_title\", \"img_html\", \"ratings_count\", \"average_rating\" ]].to_html(escape=False)))"
   ]
  },
  {
   "cell_type": "code",
   "execution_count": 9,
   "metadata": {},
   "outputs": [
    {
     "name": "stderr",
     "output_type": "stream",
     "text": [
      "<ipython-input-9-ba3e7cd54942>:3: FutureWarning: The default value of regex will change from True to False in a future version.\n",
      "  high_rating_books[\"img_html\"] = high_rating_books[\"image_url\"]\\\n"
     ]
    },
    {
     "data": {
      "text/html": [
       "<table border=\"1\" class=\"dataframe\">\n",
       "  <thead>\n",
       "    <tr style=\"text-align: right;\">\n",
       "      <th></th>\n",
       "      <th>original_title</th>\n",
       "      <th>img_html</th>\n",
       "      <th>ratings_count</th>\n",
       "      <th>average_rating</th>\n",
       "    </tr>\n",
       "  </thead>\n",
       "  <tbody>\n",
       "    <tr>\n",
       "      <th>3627</th>\n",
       "      <td>The Complete Calvin and Hobbes</td>\n",
       "      <td><img src=”https://images.gr-assets.com/books/1473064526m/24812.jpg” style=”max-height:124px;”></img><img src=”” style=”max-height:124px;”></img></td>\n",
       "      <td>28900</td>\n",
       "      <td>4.82</td>\n",
       "    </tr>\n",
       "    <tr>\n",
       "      <th>3274</th>\n",
       "      <td>NaN</td>\n",
       "      <td><img src=”https://s.gr-assets.com/assets/nophoto/book/111x148-bcc042a9c91a29c1d680899eff700a03.png” style=”max-height:124px;”></img><img src=”” style=”max-height:124px;”></img></td>\n",
       "      <td>33220</td>\n",
       "      <td>4.77</td>\n",
       "    </tr>\n",
       "    <tr>\n",
       "      <th>861</th>\n",
       "      <td>Words of Radiance</td>\n",
       "      <td><img src=”https://images.gr-assets.com/books/1391535251m/17332218.jpg” style=”max-height:124px;”></img><img src=”” style=”max-height:124px;”></img></td>\n",
       "      <td>73572</td>\n",
       "      <td>4.77</td>\n",
       "    </tr>\n",
       "    <tr>\n",
       "      <th>8853</th>\n",
       "      <td>Mark of the Lion Trilogy</td>\n",
       "      <td><img src=”https://images.gr-assets.com/books/1349032180m/95602.jpg” style=”max-height:124px;”></img><img src=”” style=”max-height:124px;”></img></td>\n",
       "      <td>9081</td>\n",
       "      <td>4.76</td>\n",
       "    </tr>\n",
       "    <tr>\n",
       "      <th>7946</th>\n",
       "      <td>NaN</td>\n",
       "      <td><img src=”https://images.gr-assets.com/books/1410151002m/5031805.jpg” style=”max-height:124px;”></img><img src=”” style=”max-height:124px;”></img></td>\n",
       "      <td>8953</td>\n",
       "      <td>4.76</td>\n",
       "    </tr>\n",
       "    <tr>\n",
       "      <th>4482</th>\n",
       "      <td>It's a Magical World: A Calvin and Hobbes Collection</td>\n",
       "      <td><img src=”https://images.gr-assets.com/books/1437420710m/24814.jpg” style=”max-height:124px;”></img><img src=”” style=”max-height:124px;”></img></td>\n",
       "      <td>22351</td>\n",
       "      <td>4.75</td>\n",
       "    </tr>\n",
       "    <tr>\n",
       "      <th>6360</th>\n",
       "      <td>There's Treasure Everywhere: A Calvin and Hobbes Collection</td>\n",
       "      <td><img src=”https://s.gr-assets.com/assets/nophoto/book/111x148-bcc042a9c91a29c1d680899eff700a03.png” style=”max-height:124px;”></img><img src=”” style=”max-height:124px;”></img></td>\n",
       "      <td>16766</td>\n",
       "      <td>4.74</td>\n",
       "    </tr>\n",
       "    <tr>\n",
       "      <th>421</th>\n",
       "      <td>Complete Harry Potter Boxed Set</td>\n",
       "      <td><img src=”https://images.gr-assets.com/books/1392579059m/862041.jpg” style=”max-height:124px;”></img><img src=”” style=”max-height:124px;”></img></td>\n",
       "      <td>190050</td>\n",
       "      <td>4.74</td>\n",
       "    </tr>\n",
       "    <tr>\n",
       "      <th>3752</th>\n",
       "      <td>Harry Potter Collection (Harry Potter, #1-6)</td>\n",
       "      <td><img src=”https://images.gr-assets.com/books/1328867351m/10.jpg” style=”max-height:124px;”></img><img src=”” style=”max-height:124px;”></img></td>\n",
       "      <td>24618</td>\n",
       "      <td>4.73</td>\n",
       "    </tr>\n",
       "    <tr>\n",
       "      <th>6919</th>\n",
       "      <td>The Indispensable Calvin and Hobbes: A Calvin and Hobbes Treasury</td>\n",
       "      <td><img src=”https://s.gr-assets.com/assets/nophoto/book/111x148-bcc042a9c91a29c1d680899eff700a03.png” style=”max-height:124px;”></img><img src=”” style=”max-height:124px;”></img></td>\n",
       "      <td>14597</td>\n",
       "      <td>4.73</td>\n",
       "    </tr>\n",
       "  </tbody>\n",
       "</table>"
      ],
      "text/plain": [
       "<IPython.core.display.HTML object>"
      ]
     },
     "metadata": {},
     "output_type": "display_data"
    }
   ],
   "source": [
    "#best average ratings count\n",
    "high_rating_books = books.sort_values(by = \"average_rating\", ascending = False)[[\"original_title\",\"ratings_count\",\"image_url\", \"average_rating\" ]][0:10]\n",
    "high_rating_books[\"img_html\"] = high_rating_books[\"image_url\"]\\\n",
    " .str.replace(\n",
    " \"(.*)\", \n",
    " \"<img src=”\\\\1” style=”max-height:124px;”></img>\"\n",
    " )\n",
    "with pd.option_context(\"display.max_colwidth\", 10000):\n",
    "    display(HTML(high_rating_books[[\"original_title\", \"img_html\",\"ratings_count\", \"average_rating\" ]].to_html(escape=False)))"
   ]
  },
  {
   "cell_type": "code",
   "execution_count": 10,
   "metadata": {},
   "outputs": [
    {
     "data": {
      "text/html": [
       "<div>\n",
       "<style scoped>\n",
       "    .dataframe tbody tr th:only-of-type {\n",
       "        vertical-align: middle;\n",
       "    }\n",
       "\n",
       "    .dataframe tbody tr th {\n",
       "        vertical-align: top;\n",
       "    }\n",
       "\n",
       "    .dataframe thead th {\n",
       "        text-align: right;\n",
       "    }\n",
       "</style>\n",
       "<table border=\"1\" class=\"dataframe\">\n",
       "  <thead>\n",
       "    <tr style=\"text-align: right;\">\n",
       "      <th></th>\n",
       "      <th>index</th>\n",
       "      <th>authors</th>\n",
       "    </tr>\n",
       "  </thead>\n",
       "  <tbody>\n",
       "    <tr>\n",
       "      <th>0</th>\n",
       "      <td>Stephen King</td>\n",
       "      <td>60</td>\n",
       "    </tr>\n",
       "    <tr>\n",
       "      <th>1</th>\n",
       "      <td>Nora Roberts</td>\n",
       "      <td>59</td>\n",
       "    </tr>\n",
       "    <tr>\n",
       "      <th>2</th>\n",
       "      <td>Dean Koontz</td>\n",
       "      <td>47</td>\n",
       "    </tr>\n",
       "    <tr>\n",
       "      <th>3</th>\n",
       "      <td>Terry Pratchett</td>\n",
       "      <td>42</td>\n",
       "    </tr>\n",
       "    <tr>\n",
       "      <th>4</th>\n",
       "      <td>Agatha Christie</td>\n",
       "      <td>39</td>\n",
       "    </tr>\n",
       "    <tr>\n",
       "      <th>5</th>\n",
       "      <td>Meg Cabot</td>\n",
       "      <td>37</td>\n",
       "    </tr>\n",
       "    <tr>\n",
       "      <th>6</th>\n",
       "      <td>James Patterson</td>\n",
       "      <td>36</td>\n",
       "    </tr>\n",
       "    <tr>\n",
       "      <th>7</th>\n",
       "      <td>David Baldacci</td>\n",
       "      <td>34</td>\n",
       "    </tr>\n",
       "    <tr>\n",
       "      <th>8</th>\n",
       "      <td>John Grisham</td>\n",
       "      <td>33</td>\n",
       "    </tr>\n",
       "    <tr>\n",
       "      <th>9</th>\n",
       "      <td>J.D. Robb</td>\n",
       "      <td>33</td>\n",
       "    </tr>\n",
       "  </tbody>\n",
       "</table>\n",
       "</div>"
      ],
      "text/plain": [
       "             index  authors\n",
       "0     Stephen King       60\n",
       "1     Nora Roberts       59\n",
       "2      Dean Koontz       47\n",
       "3  Terry Pratchett       42\n",
       "4  Agatha Christie       39\n",
       "5        Meg Cabot       37\n",
       "6  James Patterson       36\n",
       "7   David Baldacci       34\n",
       "8     John Grisham       33\n",
       "9        J.D. Robb       33"
      ]
     },
     "execution_count": 10,
     "metadata": {},
     "output_type": "execute_result"
    }
   ],
   "source": [
    "#author's books count \n",
    "authors_with_most_books = pd.DataFrame(books.authors.value_counts()[0:10]).reset_index()\n",
    "authors_with_most_books.columns = [\"author\", \"number_of_books\"]\n",
    "#list of author's books count \n",
    "pd.DataFrame(books.authors.value_counts()[0:10]).reset_index()"
   ]
  },
  {
   "cell_type": "code",
   "execution_count": 11,
   "metadata": {},
   "outputs": [
    {
     "data": {
      "image/png": "[encoded data removed]",
      "text/plain": [
       "<Figure size 864x432 with 1 Axes>"
      ]
     },
     "metadata": {
      "needs_background": "light"
     },
     "output_type": "display_data"
    }
   ],
   "source": [
    "#distribution of average ratings of all the 10000 books\n",
    "import matplotlib.pyplot as plt\n",
    "plt.figure(figsize=(12,6))\n",
    "plt.title(\"Distribution of Average Ratings\")\n",
    "books[\"average_rating\"].hist()\n",
    "display()"
   ]
  },
  {
   "cell_type": "code",
   "execution_count": 12,
   "metadata": {},
   "outputs": [
    {
     "data": {
      "image/png": "[encoded data removed]",
      "text/plain": [
       "<Figure size 432x288 with 1 Axes>"
      ]
     },
     "metadata": {
      "needs_background": "light"
     },
     "output_type": "display_data"
    }
   ],
   "source": [
    "#distribution of books count vs book id\n",
    "plt.plot(books.books_count,books.book_id )\n",
    "plt.title('books_count vs book_id')\n",
    "plt.xlabel('books_count')\n",
    "plt.ylabel('book_id')\n",
    "plt.show()"
   ]
  },
  {
   "cell_type": "code",
   "execution_count": 13,
   "metadata": {},
   "outputs": [
    {
     "data": {
      "image/png": "[encoded data removed]",
      "text/plain": [
       "<Figure size 432x288 with 1 Axes>"
      ]
     },
     "metadata": {
      "needs_background": "light"
     },
     "output_type": "display_data"
    }
   ],
   "source": [
    "#distribution of books count vs original publication year\n",
    "plt.scatter(books.original_publication_year, books.books_count, marker='o');\n",
    "plt.title('original_publication_year vs books_count')\n",
    "plt.xlabel('original_publication_year')\n",
    "plt.ylabel('books_count')\n",
    "plt.show()"
   ]
  },
  {
   "cell_type": "code",
   "execution_count": 14,
   "metadata": {},
   "outputs": [
    {
     "data": {
      "image/png": "[encoded data removed]",
      "text/plain": [
       "<Figure size 432x288 with 1 Axes>"
      ]
     },
     "metadata": {
      "needs_background": "light"
     },
     "output_type": "display_data"
    }
   ],
   "source": [
    "#rating distribution \n",
    "plt.rc(\"font\",size=15)\n",
    "ratings.rating.value_counts(sort=False).plot(kind='bar')\n",
    "plt.title('Rating Distribution\\n')\n",
    "plt.xlabel('Rating')\n",
    "plt.ylabel('Count')\n",
    "plt.show()"
   ]
  },
  {
   "cell_type": "code",
   "execution_count": 18,
   "metadata": {},
   "outputs": [],
   "source": [
    "#DATA ANALYSIS AND MODELS FOR BOOK RECOMMENDER SYSTEM"
   ]
  },
  {
   "cell_type": "code",
   "execution_count": 2,
   "metadata": {},
   "outputs": [
    {
     "name": "stdout",
     "output_type": "stream",
     "text": [
      "+-------+-------+------+-----------------+------------+-------+-----------+---------+----------------+--------------------+-------------------------+--------------------+--------------------+-------------+--------------+-------------+------------------+-----------------------+---------+---------+---------+---------+---------+--------------------+--------------------+\n",
      "|book_id|user_id|rating|goodreads_book_id|best_book_id|work_id|books_count|     isbn|          isbn13|             authors|original_publication_year|      original_title|               title|language_code|average_rating|ratings_count|work_ratings_count|work_text_reviews_count|ratings_1|ratings_2|ratings_3|ratings_4|ratings_5|           image_url|     small_image_url|\n",
      "+-------+-------+------+-----------------+------------+-------+-----------+---------+----------------+--------------------+-------------------------+--------------------+--------------------+-------------+--------------+-------------+------------------+-----------------------+---------+---------+---------+---------+---------+--------------------+--------------------+\n",
      "|    258|      1|     5|             1232|        1232|3209783|        279|143034901| 9.7801430349E12|Carlos Ruiz Zafón...|                   2001.0|La sombra del viento|The Shadow of the...|          eng|          4.24|       263685|            317554|                  24652|   4789.0|    11769|    42214|   101612|   157170|https://images.gr...|https://images.gr...|\n",
      "|   4081|      2|     4|              231|         231|1005335|         53|312424442|9.78031242444E12|           Tom Wolfe|                   2004.0|                null|I am Charlotte Si...|        en-US|           3.4|        19293|             21580|                   1891|   1481.0|     2886|     6557|     6890|     3766|https://s.gr-asse...|https://s.gr-asse...|\n",
      "|    260|      2|     5|             4865|        4865|2370171|        353|     null|9.78067172365E12|       Dale Carnegie|                   1936.0|How to Win Friend...|How to Win Friend...|          eng|          4.13|       282623|            305437|                   7909|   6734.0|    13880|    50529|    94743|   139551|https://images.gr...|https://images.gr...|\n",
      "+-------+-------+------+-----------------+------------+-------+-----------+---------+----------------+--------------------+-------------------------+--------------------+--------------------+-------------+--------------+-------------+------------------+-----------------------+---------+---------+---------+---------+---------+--------------------+--------------------+\n",
      "only showing top 3 rows\n",
      "\n"
     ]
    }
   ],
   "source": [
    "#read file into dataFrame using automatically inferred schema\n",
    "ratings = spark.read.csv('ratings.csv', inferSchema=True, header=True)\n",
    "books = spark.read.csv('books.csv', inferSchema=True, header=True)\n",
    "#merge \"books\" and \"ratings\" dataFrame based on \"book_id\"\n",
    "ratings.join(books, \"book_id\").show(3)"
   ]
  },
  {
   "cell_type": "code",
   "execution_count": 3,
   "metadata": {},
   "outputs": [
    {
     "name": "stdout",
     "output_type": "stream",
     "text": [
      "number of training data rows: 4182982 , number of testing data rows: 1793497\n"
     ]
    }
   ],
   "source": [
    "#use only column data of \"user_id\", \"book_id\", dan \"rating\"\n",
    "data = ratings.select(\"user_id\", \"book_id\", \"rating\")\n",
    "#divide data, 70% for training and 30% for testing\n",
    "splits = data.randomSplit([0.7, 0.3])\n",
    "train = splits[0].withColumnRenamed(\"rating\", \"label\")\n",
    "test = splits[1].withColumnRenamed(\"rating\", \"trueLabel\")\n",
    "#calculate number of rows\n",
    "train_rows = train.count()\n",
    "test_rows = test.count()\n",
    "print (\"number of training data rows:\", train_rows, \n",
    "       \", number of testing data rows:\", test_rows)"
   ]
  },
  {
   "cell_type": "code",
   "execution_count": 21,
   "metadata": {},
   "outputs": [],
   "source": [
    "#MODEL-1 \n",
    "#Iteration:5 , rank:10 , lambda:0.01"
   ]
  },
  {
   "cell_type": "code",
   "execution_count": 22,
   "metadata": {},
   "outputs": [
    {
     "name": "stdout",
     "output_type": "stream",
     "text": [
      "Training is done!\n"
     ]
    }
   ],
   "source": [
    "#define ALS (Alternating Least Square) as our recommender system\n",
    "als = ALS(maxIter=5, regParam=0.01, rank=10, seed=5034, userCol=\"user_id\", \n",
    "          itemCol=\"book_id\", ratingCol=\"label\")\n",
    "#train our ALS model\n",
    "model = als.fit(train)\n",
    "print(\"Training is done!\")"
   ]
  },
  {
   "cell_type": "code",
   "execution_count": 23,
   "metadata": {},
   "outputs": [
    {
     "name": "stdout",
     "output_type": "stream",
     "text": [
      "testing is done!\n"
     ]
    }
   ],
   "source": [
    "prediction = model.transform(test)\n",
    "print(\"testing is done!\")"
   ]
  },
  {
   "cell_type": "code",
   "execution_count": 24,
   "metadata": {},
   "outputs": [
    {
     "name": "stdout",
     "output_type": "stream",
     "text": [
      "+-------+-------------------------+----------+---------+\n",
      "|user_id|title                    |prediction|trueLabel|\n",
      "+-------+-------------------------+----------+---------+\n",
      "|6397   |Girl with a Pearl Earring|3.6635847 |4        |\n",
      "|9427   |Girl with a Pearl Earring|3.597092  |3        |\n",
      "|11141  |Girl with a Pearl Earring|3.3407588 |3        |\n",
      "|17679  |Girl with a Pearl Earring|3.887612  |4        |\n",
      "|19553  |Girl with a Pearl Earring|4.222948  |5        |\n",
      "|24354  |Girl with a Pearl Earring|3.9114623 |5        |\n",
      "|25517  |Girl with a Pearl Earring|4.0786147 |4        |\n",
      "|28124  |Girl with a Pearl Earring|4.0390687 |5        |\n",
      "|28170  |Girl with a Pearl Earring|3.4177449 |4        |\n",
      "|34061  |Girl with a Pearl Earring|3.469734  |4        |\n",
      "+-------+-------------------------+----------+---------+\n",
      "only showing top 10 rows\n",
      "\n"
     ]
    }
   ],
   "source": [
    "prediction.join(books, \"book_id\").select(\n",
    "    \"user_id\", \"title\", \"prediction\", \"trueLabel\").show(n=10, truncate=False)"
   ]
  },
  {
   "cell_type": "code",
   "execution_count": 25,
   "metadata": {},
   "outputs": [
    {
     "name": "stdout",
     "output_type": "stream",
     "text": [
      "Root Mean Square Error (RMSE): 0.8556478554135333\n"
     ]
    }
   ],
   "source": [
    "#import RegressionEvaluator since we also want to calculate RMSE (Root Mean Square Error)\n",
    "from pyspark.ml.evaluation import RegressionEvaluator\n",
    "\n",
    "evaluator = RegressionEvaluator(\n",
    "    labelCol=\"trueLabel\", predictionCol=\"prediction\", metricName=\"rmse\")\n",
    "rmse = evaluator.evaluate(prediction)\n",
    "print (\"Root Mean Square Error (RMSE):\", rmse)"
   ]
  },
  {
   "cell_type": "code",
   "execution_count": 26,
   "metadata": {},
   "outputs": [
    {
     "name": "stdout",
     "output_type": "stream",
     "text": [
      "number of original data rows:  1792506\n",
      "number of rows after dropping data with missing value:  1792506\n",
      "number of missing data:  0\n"
     ]
    }
   ],
   "source": [
    "prediction.count()\n",
    "a = prediction.count()\n",
    "print(\"number of original data rows: \", a)\n",
    "#drop rows with any missing data\n",
    "cleanPred = prediction.dropna(how=\"any\", subset=[\"prediction\"])\n",
    "b = cleanPred.count()\n",
    "print(\"number of rows after dropping data with missing value: \", b)\n",
    "print(\"number of missing data: \", a-b)"
   ]
  },
  {
   "cell_type": "code",
   "execution_count": 27,
   "metadata": {},
   "outputs": [
    {
     "name": "stdout",
     "output_type": "stream",
     "text": [
      "Root Mean Square Error (RMSE): 0.8556478554135333\n"
     ]
    }
   ],
   "source": [
    "rmse = evaluator.evaluate(cleanPred)\n",
    "print (\"Root Mean Square Error (RMSE):\", rmse)"
   ]
  },
  {
   "cell_type": "code",
   "execution_count": 28,
   "metadata": {},
   "outputs": [],
   "source": [
    "#MODEL-2\n",
    "#Iteration:5 , rank:10 , lambda:0.1"
   ]
  },
  {
   "cell_type": "code",
   "execution_count": 29,
   "metadata": {},
   "outputs": [
    {
     "name": "stdout",
     "output_type": "stream",
     "text": [
      "Training is done!\n"
     ]
    }
   ],
   "source": [
    "#define ALS (Alternating Least Square) as our recommender system\n",
    "als = ALS(maxIter=5, regParam=0.1, rank=10, seed=5034, userCol=\"user_id\", \n",
    "          itemCol=\"book_id\", ratingCol=\"label\")\n",
    "#train our ALS model\n",
    "model = als.fit(train)\n",
    "print(\"Training is done!\")"
   ]
  },
  {
   "cell_type": "code",
   "execution_count": 30,
   "metadata": {},
   "outputs": [
    {
     "name": "stdout",
     "output_type": "stream",
     "text": [
      "testing is done!\n"
     ]
    }
   ],
   "source": [
    "prediction = model.transform(test)\n",
    "print(\"testing is done!\")"
   ]
  },
  {
   "cell_type": "code",
   "execution_count": 31,
   "metadata": {},
   "outputs": [
    {
     "name": "stdout",
     "output_type": "stream",
     "text": [
      "+-------+-------------------------+----------+---------+\n",
      "|user_id|title                    |prediction|trueLabel|\n",
      "+-------+-------------------------+----------+---------+\n",
      "|6397   |Girl with a Pearl Earring|3.551228  |4        |\n",
      "|9427   |Girl with a Pearl Earring|3.5139852 |3        |\n",
      "|11141  |Girl with a Pearl Earring|3.2508876 |3        |\n",
      "|17679  |Girl with a Pearl Earring|3.6220443 |4        |\n",
      "|19553  |Girl with a Pearl Earring|4.113866  |5        |\n",
      "|24354  |Girl with a Pearl Earring|3.9164026 |5        |\n",
      "|25517  |Girl with a Pearl Earring|3.8541162 |4        |\n",
      "|28124  |Girl with a Pearl Earring|3.9129953 |5        |\n",
      "|28170  |Girl with a Pearl Earring|3.273997  |4        |\n",
      "|34061  |Girl with a Pearl Earring|3.3659978 |4        |\n",
      "+-------+-------------------------+----------+---------+\n",
      "only showing top 10 rows\n",
      "\n"
     ]
    }
   ],
   "source": [
    "prediction.join(books, \"book_id\").select(\n",
    "    \"user_id\", \"title\", \"prediction\", \"trueLabel\").show(n=10, truncate=False)"
   ]
  },
  {
   "cell_type": "code",
   "execution_count": 32,
   "metadata": {},
   "outputs": [
    {
     "name": "stdout",
     "output_type": "stream",
     "text": [
      "Root Mean Square Error (RMSE): 0.8297993036282052\n"
     ]
    }
   ],
   "source": [
    "#import RegressionEvaluator since we also want to calculate RMSE (Root Mean Square Error)\n",
    "from pyspark.ml.evaluation import RegressionEvaluator\n",
    "\n",
    "evaluator = RegressionEvaluator(\n",
    "    labelCol=\"trueLabel\", predictionCol=\"prediction\", metricName=\"rmse\")\n",
    "rmse = evaluator.evaluate(prediction)\n",
    "print (\"Root Mean Square Error (RMSE):\", rmse)"
   ]
  },
  {
   "cell_type": "code",
   "execution_count": 33,
   "metadata": {},
   "outputs": [
    {
     "name": "stdout",
     "output_type": "stream",
     "text": [
      "number of original data rows:  1792506\n",
      "number of rows after dropping data with missing value:  1792506\n",
      "number of missing data:  0\n"
     ]
    }
   ],
   "source": [
    "prediction.count()\n",
    "a = prediction.count()\n",
    "print(\"number of original data rows: \", a)\n",
    "#drop rows with any missing data\n",
    "cleanPred = prediction.dropna(how=\"any\", subset=[\"prediction\"])\n",
    "b = cleanPred.count()\n",
    "print(\"number of rows after dropping data with missing value: \", b)\n",
    "print(\"number of missing data: \", a-b)"
   ]
  },
  {
   "cell_type": "code",
   "execution_count": 34,
   "metadata": {},
   "outputs": [
    {
     "name": "stdout",
     "output_type": "stream",
     "text": [
      "Root Mean Square Error (RMSE): 0.8297993036282052\n"
     ]
    }
   ],
   "source": [
    "rmse = evaluator.evaluate(cleanPred)\n",
    "print (\"Root Mean Square Error (RMSE):\", rmse)"
   ]
  },
  {
   "cell_type": "code",
   "execution_count": 35,
   "metadata": {},
   "outputs": [],
   "source": [
    "#MODEL-3\n",
    "#Iteration:7 , rank:10 , lambda:0.01"
   ]
  },
  {
   "cell_type": "code",
   "execution_count": 36,
   "metadata": {},
   "outputs": [
    {
     "name": "stdout",
     "output_type": "stream",
     "text": [
      "Training is done!\n"
     ]
    }
   ],
   "source": [
    "#define ALS (Alternating Least Square) as our recommender system\n",
    "als = ALS(maxIter=7, regParam=0.01, rank=10, seed=5034, userCol=\"user_id\", \n",
    "          itemCol=\"book_id\", ratingCol=\"label\")\n",
    "#train our ALS model\n",
    "model = als.fit(train)\n",
    "print(\"Training is done!\")"
   ]
  },
  {
   "cell_type": "code",
   "execution_count": 37,
   "metadata": {},
   "outputs": [
    {
     "name": "stdout",
     "output_type": "stream",
     "text": [
      "testing is done!\n"
     ]
    }
   ],
   "source": [
    "prediction = model.transform(test)\n",
    "print(\"testing is done!\")"
   ]
  },
  {
   "cell_type": "code",
   "execution_count": 38,
   "metadata": {},
   "outputs": [
    {
     "name": "stdout",
     "output_type": "stream",
     "text": [
      "+-------+-------------------------+----------+---------+\n",
      "|user_id|title                    |prediction|trueLabel|\n",
      "+-------+-------------------------+----------+---------+\n",
      "|6397   |Girl with a Pearl Earring|3.6998441 |4        |\n",
      "|9427   |Girl with a Pearl Earring|3.618246  |3        |\n",
      "|11141  |Girl with a Pearl Earring|3.4249973 |3        |\n",
      "|17679  |Girl with a Pearl Earring|3.9582188 |4        |\n",
      "|19553  |Girl with a Pearl Earring|4.288676  |5        |\n",
      "|24354  |Girl with a Pearl Earring|3.976629  |5        |\n",
      "|25517  |Girl with a Pearl Earring|4.209446  |4        |\n",
      "|28124  |Girl with a Pearl Earring|4.113027  |5        |\n",
      "|28170  |Girl with a Pearl Earring|3.4348035 |4        |\n",
      "|34061  |Girl with a Pearl Earring|3.3364968 |4        |\n",
      "+-------+-------------------------+----------+---------+\n",
      "only showing top 10 rows\n",
      "\n"
     ]
    }
   ],
   "source": [
    "prediction.join(books, \"book_id\").select(\n",
    "    \"user_id\", \"title\", \"prediction\", \"trueLabel\").show(n=10, truncate=False)"
   ]
  },
  {
   "cell_type": "code",
   "execution_count": 39,
   "metadata": {},
   "outputs": [
    {
     "name": "stdout",
     "output_type": "stream",
     "text": [
      "Root Mean Square Error (RMSE): 0.857469899944683\n"
     ]
    }
   ],
   "source": [
    "#import RegressionEvaluator since we also want to calculate RMSE (Root Mean Square Error)\n",
    "from pyspark.ml.evaluation import RegressionEvaluator\n",
    "\n",
    "evaluator = RegressionEvaluator(\n",
    "    labelCol=\"trueLabel\", predictionCol=\"prediction\", metricName=\"rmse\")\n",
    "rmse = evaluator.evaluate(prediction)\n",
    "print (\"Root Mean Square Error (RMSE):\", rmse)"
   ]
  },
  {
   "cell_type": "code",
   "execution_count": 40,
   "metadata": {},
   "outputs": [
    {
     "name": "stdout",
     "output_type": "stream",
     "text": [
      "number of original data rows:  1792506\n",
      "number of rows after dropping data with missing value:  1792506\n",
      "number of missing data:  0\n"
     ]
    }
   ],
   "source": [
    "prediction.count()\n",
    "a = prediction.count()\n",
    "print(\"number of original data rows: \", a)\n",
    "#drop rows with any missing data\n",
    "cleanPred = prediction.dropna(how=\"any\", subset=[\"prediction\"])\n",
    "b = cleanPred.count()\n",
    "print(\"number of rows after dropping data with missing value: \", b)\n",
    "print(\"number of missing data: \", a-b)"
   ]
  },
  {
   "cell_type": "code",
   "execution_count": 42,
   "metadata": {},
   "outputs": [
    {
     "name": "stdout",
     "output_type": "stream",
     "text": [
      "Root Mean Square Error (RMSE): 0.8574698999446828\n"
     ]
    }
   ],
   "source": [
    "rmse = evaluator.evaluate(cleanPred)\n",
    "print (\"Root Mean Square Error (RMSE):\", rmse)"
   ]
  },
  {
   "cell_type": "code",
   "execution_count": 43,
   "metadata": {},
   "outputs": [],
   "source": [
    "#MODEL-4\n",
    "#Iteration:7 , rank:10 , lambda:0.1"
   ]
  },
  {
   "cell_type": "code",
   "execution_count": 44,
   "metadata": {},
   "outputs": [
    {
     "name": "stdout",
     "output_type": "stream",
     "text": [
      "Training is done!\n"
     ]
    }
   ],
   "source": [
    "#define ALS (Alternating Least Square) as our recommender system\n",
    "als = ALS(maxIter=7, regParam=0.1, rank=10, seed=5034, userCol=\"user_id\", \n",
    "          itemCol=\"book_id\", ratingCol=\"label\")\n",
    "#train our ALS model\n",
    "model = als.fit(train)\n",
    "print(\"Training is done!\")"
   ]
  },
  {
   "cell_type": "code",
   "execution_count": 45,
   "metadata": {},
   "outputs": [
    {
     "name": "stdout",
     "output_type": "stream",
     "text": [
      "testing is done!\n"
     ]
    }
   ],
   "source": [
    "prediction = model.transform(test)\n",
    "print(\"testing is done!\")"
   ]
  },
  {
   "cell_type": "code",
   "execution_count": 46,
   "metadata": {},
   "outputs": [
    {
     "name": "stdout",
     "output_type": "stream",
     "text": [
      "+-------+-------------------------+----------+---------+\n",
      "|user_id|title                    |prediction|trueLabel|\n",
      "+-------+-------------------------+----------+---------+\n",
      "|6397   |Girl with a Pearl Earring|3.5546815 |4        |\n",
      "|9427   |Girl with a Pearl Earring|3.4998217 |3        |\n",
      "|11141  |Girl with a Pearl Earring|3.250719  |3        |\n",
      "|17679  |Girl with a Pearl Earring|3.615804  |4        |\n",
      "|19553  |Girl with a Pearl Earring|4.1137958 |5        |\n",
      "|24354  |Girl with a Pearl Earring|3.9155347 |5        |\n",
      "|25517  |Girl with a Pearl Earring|3.86559   |4        |\n",
      "|28124  |Girl with a Pearl Earring|3.9209101 |5        |\n",
      "|28170  |Girl with a Pearl Earring|3.2609227 |4        |\n",
      "|34061  |Girl with a Pearl Earring|3.3457842 |4        |\n",
      "+-------+-------------------------+----------+---------+\n",
      "only showing top 10 rows\n",
      "\n"
     ]
    }
   ],
   "source": [
    "prediction.join(books, \"book_id\").select(\n",
    "    \"user_id\", \"title\", \"prediction\", \"trueLabel\").show(n=10, truncate=False)"
   ]
  },
  {
   "cell_type": "code",
   "execution_count": 47,
   "metadata": {},
   "outputs": [
    {
     "name": "stdout",
     "output_type": "stream",
     "text": [
      "Root Mean Square Error (RMSE): 0.8258413896641451\n"
     ]
    }
   ],
   "source": [
    "#import RegressionEvaluator since we also want to calculate RMSE (Root Mean Square Error)\n",
    "from pyspark.ml.evaluation import RegressionEvaluator\n",
    "\n",
    "evaluator = RegressionEvaluator(\n",
    "    labelCol=\"trueLabel\", predictionCol=\"prediction\", metricName=\"rmse\")\n",
    "rmse = evaluator.evaluate(prediction)\n",
    "print (\"Root Mean Square Error (RMSE):\", rmse)"
   ]
  },
  {
   "cell_type": "code",
   "execution_count": 48,
   "metadata": {},
   "outputs": [
    {
     "name": "stdout",
     "output_type": "stream",
     "text": [
      "number of original data rows:  1792506\n",
      "number of rows after dropping data with missing value:  1792506\n",
      "number of missing data:  0\n"
     ]
    }
   ],
   "source": [
    "prediction.count()\n",
    "a = prediction.count()\n",
    "print(\"number of original data rows: \", a)\n",
    "#drop rows with any missing data\n",
    "cleanPred = prediction.dropna(how=\"any\", subset=[\"prediction\"])\n",
    "b = cleanPred.count()\n",
    "print(\"number of rows after dropping data with missing value: \", b)\n",
    "print(\"number of missing data: \", a-b)"
   ]
  },
  {
   "cell_type": "code",
   "execution_count": 49,
   "metadata": {},
   "outputs": [
    {
     "name": "stdout",
     "output_type": "stream",
     "text": [
      "Root Mean Square Error (RMSE): 0.8258413896641451\n"
     ]
    }
   ],
   "source": [
    "rmse = evaluator.evaluate(cleanPred)\n",
    "print (\"Root Mean Square Error (RMSE):\", rmse)"
   ]
  },
  {
   "cell_type": "code",
   "execution_count": 50,
   "metadata": {},
   "outputs": [],
   "source": [
    "#MODEL-5\n",
    "#Iteration:10 , rank:10 , lambda:0.01"
   ]
  },
  {
   "cell_type": "code",
   "execution_count": 51,
   "metadata": {},
   "outputs": [
    {
     "name": "stdout",
     "output_type": "stream",
     "text": [
      "Training is done!\n"
     ]
    }
   ],
   "source": [
    "#define ALS (Alternating Least Square) as our recommender system\n",
    "als = ALS(maxIter=10, regParam=0.01, rank=10, seed=5034, userCol=\"user_id\", \n",
    "          itemCol=\"book_id\", ratingCol=\"label\")\n",
    "#train our ALS model\n",
    "model = als.fit(train)\n",
    "print(\"Training is done!\")"
   ]
  },
  {
   "cell_type": "code",
   "execution_count": 52,
   "metadata": {},
   "outputs": [
    {
     "name": "stdout",
     "output_type": "stream",
     "text": [
      "+-------+-------------------------+----------+---------+\n",
      "|user_id|title                    |prediction|trueLabel|\n",
      "+-------+-------------------------+----------+---------+\n",
      "|6397   |Girl with a Pearl Earring|3.5546815 |4        |\n",
      "|9427   |Girl with a Pearl Earring|3.4998217 |3        |\n",
      "|11141  |Girl with a Pearl Earring|3.250719  |3        |\n",
      "|17679  |Girl with a Pearl Earring|3.615804  |4        |\n",
      "|19553  |Girl with a Pearl Earring|4.1137958 |5        |\n",
      "|24354  |Girl with a Pearl Earring|3.9155347 |5        |\n",
      "|25517  |Girl with a Pearl Earring|3.86559   |4        |\n",
      "|28124  |Girl with a Pearl Earring|3.9209101 |5        |\n",
      "|28170  |Girl with a Pearl Earring|3.2609227 |4        |\n",
      "|34061  |Girl with a Pearl Earring|3.3457842 |4        |\n",
      "+-------+-------------------------+----------+---------+\n",
      "only showing top 10 rows\n",
      "\n"
     ]
    }
   ],
   "source": [
    "prediction.join(books, \"book_id\").select(\n",
    "    \"user_id\", \"title\", \"prediction\", \"trueLabel\").show(n=10, truncate=False)"
   ]
  },
  {
   "cell_type": "code",
   "execution_count": 53,
   "metadata": {},
   "outputs": [
    {
     "name": "stdout",
     "output_type": "stream",
     "text": [
      "Root Mean Square Error (RMSE): 0.8258413896641451\n"
     ]
    }
   ],
   "source": [
    "#import RegressionEvaluator since we also want to calculate RMSE (Root Mean Square Error)\n",
    "from pyspark.ml.evaluation import RegressionEvaluator\n",
    "\n",
    "evaluator = RegressionEvaluator(\n",
    "    labelCol=\"trueLabel\", predictionCol=\"prediction\", metricName=\"rmse\")\n",
    "rmse = evaluator.evaluate(prediction)\n",
    "print (\"Root Mean Square Error (RMSE):\", rmse)"
   ]
  },
  {
   "cell_type": "code",
   "execution_count": 54,
   "metadata": {},
   "outputs": [
    {
     "name": "stdout",
     "output_type": "stream",
     "text": [
      "number of original data rows:  1792506\n",
      "number of rows after dropping data with missing value:  1792506\n",
      "number of missing data:  0\n"
     ]
    }
   ],
   "source": [
    "prediction.count()\n",
    "a = prediction.count()\n",
    "print(\"number of original data rows: \", a)\n",
    "#drop rows with any missing data\n",
    "cleanPred = prediction.dropna(how=\"any\", subset=[\"prediction\"])\n",
    "b = cleanPred.count()\n",
    "print(\"number of rows after dropping data with missing value: \", b)\n",
    "print(\"number of missing data: \", a-b)"
   ]
  },
  {
   "cell_type": "code",
   "execution_count": 56,
   "metadata": {},
   "outputs": [
    {
     "name": "stdout",
     "output_type": "stream",
     "text": [
      "Root Mean Square Error (RMSE): 0.8258413896641451\n"
     ]
    }
   ],
   "source": [
    "rmse = evaluator.evaluate(cleanPred)\n",
    "print (\"Root Mean Square Error (RMSE):\", rmse)"
   ]
  },
  {
   "cell_type": "code",
   "execution_count": 57,
   "metadata": {},
   "outputs": [],
   "source": [
    "#MODEL-6\n",
    "#Iteration:10 , rank:10 , lambda:0.1"
   ]
  },
  {
   "cell_type": "code",
   "execution_count": 58,
   "metadata": {},
   "outputs": [
    {
     "name": "stdout",
     "output_type": "stream",
     "text": [
      "Training is done!\n"
     ]
    }
   ],
   "source": [
    "#define ALS (Alternating Least Square) as our recommender system\n",
    "als = ALS(maxIter=10, regParam=0.1, rank=10, seed=5034, userCol=\"user_id\", \n",
    "          itemCol=\"book_id\", ratingCol=\"label\")\n",
    "#train our ALS model\n",
    "model = als.fit(train)\n",
    "print(\"Training is done!\")"
   ]
  },
  {
   "cell_type": "code",
   "execution_count": 59,
   "metadata": {},
   "outputs": [
    {
     "name": "stdout",
     "output_type": "stream",
     "text": [
      "testing is done!\n"
     ]
    }
   ],
   "source": [
    "prediction = model.transform(test)\n",
    "print(\"testing is done!\")"
   ]
  },
  {
   "cell_type": "code",
   "execution_count": 60,
   "metadata": {},
   "outputs": [
    {
     "name": "stdout",
     "output_type": "stream",
     "text": [
      "+-------+-------------------------+----------+---------+\n",
      "|user_id|title                    |prediction|trueLabel|\n",
      "+-------+-------------------------+----------+---------+\n",
      "|6397   |Girl with a Pearl Earring|3.558213  |4        |\n",
      "|9427   |Girl with a Pearl Earring|3.4855394 |3        |\n",
      "|11141  |Girl with a Pearl Earring|3.255661  |3        |\n",
      "|17679  |Girl with a Pearl Earring|3.61444   |4        |\n",
      "|19553  |Girl with a Pearl Earring|4.124552  |5        |\n",
      "|24354  |Girl with a Pearl Earring|3.9264345 |5        |\n",
      "|25517  |Girl with a Pearl Earring|3.8734577 |4        |\n",
      "|28124  |Girl with a Pearl Earring|3.9298964 |5        |\n",
      "|28170  |Girl with a Pearl Earring|3.2619505 |4        |\n",
      "|34061  |Girl with a Pearl Earring|3.3309386 |4        |\n",
      "+-------+-------------------------+----------+---------+\n",
      "only showing top 10 rows\n",
      "\n"
     ]
    }
   ],
   "source": [
    "prediction.join(books, \"book_id\").select(\n",
    "    \"user_id\", \"title\", \"prediction\", \"trueLabel\").show(n=10, truncate=False)"
   ]
  },
  {
   "cell_type": "code",
   "execution_count": 61,
   "metadata": {},
   "outputs": [
    {
     "name": "stdout",
     "output_type": "stream",
     "text": [
      "Root Mean Square Error (RMSE): 0.8231623088375326\n"
     ]
    }
   ],
   "source": [
    "#import RegressionEvaluator since we also want to calculate RMSE (Root Mean Square Error)\n",
    "from pyspark.ml.evaluation import RegressionEvaluator\n",
    "\n",
    "evaluator = RegressionEvaluator(\n",
    "    labelCol=\"trueLabel\", predictionCol=\"prediction\", metricName=\"rmse\")\n",
    "rmse = evaluator.evaluate(prediction)\n",
    "print (\"Root Mean Square Error (RMSE):\", rmse)"
   ]
  },
  {
   "cell_type": "code",
   "execution_count": 62,
   "metadata": {},
   "outputs": [
    {
     "name": "stdout",
     "output_type": "stream",
     "text": [
      "number of original data rows:  1792506\n",
      "number of rows after dropping data with missing value:  1792506\n",
      "number of missing data:  0\n"
     ]
    }
   ],
   "source": [
    "prediction.count()\n",
    "a = prediction.count()\n",
    "print(\"number of original data rows: \", a)\n",
    "#drop rows with any missing data\n",
    "cleanPred = prediction.dropna(how=\"any\", subset=[\"prediction\"])\n",
    "b = cleanPred.count()\n",
    "print(\"number of rows after dropping data with missing value: \", b)\n",
    "print(\"number of missing data: \", a-b)"
   ]
  },
  {
   "cell_type": "code",
   "execution_count": 63,
   "metadata": {},
   "outputs": [
    {
     "name": "stdout",
     "output_type": "stream",
     "text": [
      "Root Mean Square Error (RMSE): 0.8231623088375326\n"
     ]
    }
   ],
   "source": [
    "rmse = evaluator.evaluate(cleanPred)\n",
    "print (\"Root Mean Square Error (RMSE):\", rmse)"
   ]
  },
  {
   "cell_type": "code",
   "execution_count": 64,
   "metadata": {},
   "outputs": [],
   "source": [
    "#MODEL-7\n",
    "#Iteration:5 , rank:50 , lambda:0.01"
   ]
  },
  {
   "cell_type": "code",
   "execution_count": 65,
   "metadata": {},
   "outputs": [
    {
     "name": "stdout",
     "output_type": "stream",
     "text": [
      "Training is done!\n"
     ]
    }
   ],
   "source": [
    "#define ALS (Alternating Least Square) as our recommender system\n",
    "als = ALS(maxIter=5, regParam=0.01, rank=50, seed=5034, userCol=\"user_id\", \n",
    "          itemCol=\"book_id\", ratingCol=\"label\")\n",
    "#train our ALS model\n",
    "model = als.fit(train)\n",
    "print(\"Training is done!\")"
   ]
  },
  {
   "cell_type": "code",
   "execution_count": 66,
   "metadata": {},
   "outputs": [
    {
     "name": "stdout",
     "output_type": "stream",
     "text": [
      "testing is done!\n"
     ]
    }
   ],
   "source": [
    "prediction = model.transform(test)\n",
    "print(\"testing is done!\")"
   ]
  },
  {
   "cell_type": "code",
   "execution_count": 67,
   "metadata": {},
   "outputs": [
    {
     "name": "stdout",
     "output_type": "stream",
     "text": [
      "+-------+-------------------------+----------+---------+\n",
      "|user_id|title                    |prediction|trueLabel|\n",
      "+-------+-------------------------+----------+---------+\n",
      "|6397   |Girl with a Pearl Earring|3.933231  |4        |\n",
      "|9427   |Girl with a Pearl Earring|4.122395  |3        |\n",
      "|11141  |Girl with a Pearl Earring|4.0250955 |3        |\n",
      "|17679  |Girl with a Pearl Earring|4.2207212 |4        |\n",
      "|19553  |Girl with a Pearl Earring|4.4062777 |5        |\n",
      "|24354  |Girl with a Pearl Earring|4.1846538 |5        |\n",
      "|25517  |Girl with a Pearl Earring|3.2530243 |4        |\n",
      "|28124  |Girl with a Pearl Earring|3.9060361 |5        |\n",
      "|28170  |Girl with a Pearl Earring|3.4049947 |4        |\n",
      "|34061  |Girl with a Pearl Earring|3.7760904 |4        |\n",
      "+-------+-------------------------+----------+---------+\n",
      "only showing top 10 rows\n",
      "\n"
     ]
    }
   ],
   "source": [
    "prediction.join(books, \"book_id\").select(\n",
    "    \"user_id\", \"title\", \"prediction\", \"trueLabel\").show(n=10, truncate=False)"
   ]
  },
  {
   "cell_type": "code",
   "execution_count": 68,
   "metadata": {},
   "outputs": [
    {
     "name": "stdout",
     "output_type": "stream",
     "text": [
      "Root Mean Square Error (RMSE): 1.0746459641114978\n"
     ]
    }
   ],
   "source": [
    "#import RegressionEvaluator since we also want to calculate RMSE (Root Mean Square Error)\n",
    "from pyspark.ml.evaluation import RegressionEvaluator\n",
    "\n",
    "evaluator = RegressionEvaluator(\n",
    "    labelCol=\"trueLabel\", predictionCol=\"prediction\", metricName=\"rmse\")\n",
    "rmse = evaluator.evaluate(prediction)\n",
    "print (\"Root Mean Square Error (RMSE):\", rmse)"
   ]
  },
  {
   "cell_type": "code",
   "execution_count": 69,
   "metadata": {},
   "outputs": [
    {
     "name": "stdout",
     "output_type": "stream",
     "text": [
      "number of original data rows:  1792506\n",
      "number of rows after dropping data with missing value:  1792506\n",
      "number of missing data:  0\n"
     ]
    }
   ],
   "source": [
    "prediction.count()\n",
    "a = prediction.count()\n",
    "print(\"number of original data rows: \", a)\n",
    "#drop rows with any missing data\n",
    "cleanPred = prediction.dropna(how=\"any\", subset=[\"prediction\"])\n",
    "b = cleanPred.count()\n",
    "print(\"number of rows after dropping data with missing value: \", b)\n",
    "print(\"number of missing data: \", a-b)"
   ]
  },
  {
   "cell_type": "code",
   "execution_count": 70,
   "metadata": {},
   "outputs": [
    {
     "name": "stdout",
     "output_type": "stream",
     "text": [
      "Root Mean Square Error (RMSE): 1.0746459641114976\n"
     ]
    }
   ],
   "source": [
    "rmse = evaluator.evaluate(cleanPred)\n",
    "print (\"Root Mean Square Error (RMSE):\", rmse)"
   ]
  },
  {
   "cell_type": "code",
   "execution_count": 71,
   "metadata": {},
   "outputs": [],
   "source": [
    "#MODEL-8\n",
    "#Iteration:5 , rank:50 , lambda:0.1"
   ]
  },
  {
   "cell_type": "code",
   "execution_count": 72,
   "metadata": {},
   "outputs": [
    {
     "name": "stdout",
     "output_type": "stream",
     "text": [
      "Training is done!\n"
     ]
    }
   ],
   "source": [
    "#define ALS (Alternating Least Square) as our recommender system\n",
    "als = ALS(maxIter=5, regParam=0.1, rank=50, seed=5034, userCol=\"user_id\", \n",
    "          itemCol=\"book_id\", ratingCol=\"label\")\n",
    "#train our ALS model\n",
    "model = als.fit(train)\n",
    "print(\"Training is done!\")"
   ]
  },
  {
   "cell_type": "code",
   "execution_count": 73,
   "metadata": {},
   "outputs": [
    {
     "name": "stdout",
     "output_type": "stream",
     "text": [
      "testing is done!\n"
     ]
    }
   ],
   "source": [
    "prediction = model.transform(test)\n",
    "print(\"testing is done!\")"
   ]
  },
  {
   "cell_type": "code",
   "execution_count": 74,
   "metadata": {},
   "outputs": [
    {
     "name": "stdout",
     "output_type": "stream",
     "text": [
      "+-------+-------------------------+----------+---------+\n",
      "|user_id|title                    |prediction|trueLabel|\n",
      "+-------+-------------------------+----------+---------+\n",
      "|6397   |Girl with a Pearl Earring|3.4797518 |4        |\n",
      "|9427   |Girl with a Pearl Earring|3.5122714 |3        |\n",
      "|11141  |Girl with a Pearl Earring|3.2529879 |3        |\n",
      "|17679  |Girl with a Pearl Earring|3.602874  |4        |\n",
      "|19553  |Girl with a Pearl Earring|4.0597644 |5        |\n",
      "|24354  |Girl with a Pearl Earring|3.9748225 |5        |\n",
      "|25517  |Girl with a Pearl Earring|3.7107131 |4        |\n",
      "|28124  |Girl with a Pearl Earring|3.8931825 |5        |\n",
      "|28170  |Girl with a Pearl Earring|3.071392  |4        |\n",
      "|34061  |Girl with a Pearl Earring|3.248591  |4        |\n",
      "+-------+-------------------------+----------+---------+\n",
      "only showing top 10 rows\n",
      "\n"
     ]
    }
   ],
   "source": [
    "prediction.join(books, \"book_id\").select(\n",
    "    \"user_id\", \"title\", \"prediction\", \"trueLabel\").show(n=10, truncate=False)"
   ]
  },
  {
   "cell_type": "code",
   "execution_count": 75,
   "metadata": {},
   "outputs": [
    {
     "name": "stdout",
     "output_type": "stream",
     "text": [
      "Root Mean Square Error (RMSE): 0.8391589023869346\n"
     ]
    }
   ],
   "source": [
    "#import RegressionEvaluator since we also want to calculate RMSE (Root Mean Square Error)\n",
    "from pyspark.ml.evaluation import RegressionEvaluator\n",
    "\n",
    "evaluator = RegressionEvaluator(\n",
    "    labelCol=\"trueLabel\", predictionCol=\"prediction\", metricName=\"rmse\")\n",
    "rmse = evaluator.evaluate(prediction)\n",
    "print (\"Root Mean Square Error (RMSE):\", rmse)"
   ]
  },
  {
   "cell_type": "code",
   "execution_count": 76,
   "metadata": {},
   "outputs": [
    {
     "name": "stdout",
     "output_type": "stream",
     "text": [
      "number of original data rows:  1792506\n",
      "number of rows after dropping data with missing value:  1792506\n",
      "number of missing data:  0\n"
     ]
    }
   ],
   "source": [
    "prediction.count()\n",
    "a = prediction.count()\n",
    "print(\"number of original data rows: \", a)\n",
    "#drop rows with any missing data\n",
    "cleanPred = prediction.dropna(how=\"any\", subset=[\"prediction\"])\n",
    "b = cleanPred.count()\n",
    "print(\"number of rows after dropping data with missing value: \", b)\n",
    "print(\"number of missing data: \", a-b)"
   ]
  },
  {
   "cell_type": "code",
   "execution_count": 77,
   "metadata": {},
   "outputs": [
    {
     "name": "stdout",
     "output_type": "stream",
     "text": [
      "Root Mean Square Error (RMSE): 0.8391589023869346\n"
     ]
    }
   ],
   "source": [
    "rmse = evaluator.evaluate(cleanPred)\n",
    "print (\"Root Mean Square Error (RMSE):\", rmse)"
   ]
  },
  {
   "cell_type": "code",
   "execution_count": 78,
   "metadata": {},
   "outputs": [],
   "source": [
    "#MODEL-9\n",
    "#Iteration:7 , rank:50 , lambda:0.01"
   ]
  },
  {
   "cell_type": "code",
   "execution_count": 79,
   "metadata": {},
   "outputs": [
    {
     "name": "stdout",
     "output_type": "stream",
     "text": [
      "Training is done!\n"
     ]
    }
   ],
   "source": [
    "#define ALS (Alternating Least Square) as our recommender system\n",
    "als = ALS(maxIter=7, regParam=0.01, rank=50, seed=5034, userCol=\"user_id\", \n",
    "          itemCol=\"book_id\", ratingCol=\"label\")\n",
    "#train our ALS model\n",
    "model = als.fit(train)\n",
    "print(\"Training is done!\")"
   ]
  },
  {
   "cell_type": "code",
   "execution_count": 80,
   "metadata": {},
   "outputs": [
    {
     "name": "stdout",
     "output_type": "stream",
     "text": [
      "testing is done!\n"
     ]
    }
   ],
   "source": [
    "prediction = model.transform(test)\n",
    "print(\"testing is done!\")"
   ]
  },
  {
   "cell_type": "code",
   "execution_count": 81,
   "metadata": {},
   "outputs": [
    {
     "name": "stdout",
     "output_type": "stream",
     "text": [
      "+-------+-------------------------+----------+---------+\n",
      "|user_id|title                    |prediction|trueLabel|\n",
      "+-------+-------------------------+----------+---------+\n",
      "|6397   |Girl with a Pearl Earring|3.9206986 |4        |\n",
      "|9427   |Girl with a Pearl Earring|4.2193785 |3        |\n",
      "|11141  |Girl with a Pearl Earring|4.2712145 |3        |\n",
      "|17679  |Girl with a Pearl Earring|4.6263204 |4        |\n",
      "|19553  |Girl with a Pearl Earring|4.5479913 |5        |\n",
      "|24354  |Girl with a Pearl Earring|4.497318  |5        |\n",
      "|25517  |Girl with a Pearl Earring|3.1103    |4        |\n",
      "|28124  |Girl with a Pearl Earring|3.812705  |5        |\n",
      "|28170  |Girl with a Pearl Earring|3.3707721 |4        |\n",
      "|34061  |Girl with a Pearl Earring|3.958861  |4        |\n",
      "+-------+-------------------------+----------+---------+\n",
      "only showing top 10 rows\n",
      "\n"
     ]
    }
   ],
   "source": [
    "prediction.join(books, \"book_id\").select(\n",
    "    \"user_id\", \"title\", \"prediction\", \"trueLabel\").show(n=10, truncate=False)"
   ]
  },
  {
   "cell_type": "code",
   "execution_count": 82,
   "metadata": {},
   "outputs": [
    {
     "name": "stdout",
     "output_type": "stream",
     "text": [
      "Root Mean Square Error (RMSE): 1.0576764043842832\n"
     ]
    }
   ],
   "source": [
    "#import RegressionEvaluator since we also want to calculate RMSE (Root Mean Square Error)\n",
    "from pyspark.ml.evaluation import RegressionEvaluator\n",
    "\n",
    "evaluator = RegressionEvaluator(\n",
    "    labelCol=\"trueLabel\", predictionCol=\"prediction\", metricName=\"rmse\")\n",
    "rmse = evaluator.evaluate(prediction)\n",
    "print (\"Root Mean Square Error (RMSE):\", rmse)"
   ]
  },
  {
   "cell_type": "code",
   "execution_count": 83,
   "metadata": {},
   "outputs": [
    {
     "name": "stdout",
     "output_type": "stream",
     "text": [
      "number of original data rows:  1792506\n",
      "number of rows after dropping data with missing value:  1792506\n",
      "number of missing data:  0\n"
     ]
    }
   ],
   "source": [
    "prediction.count()\n",
    "a = prediction.count()\n",
    "print(\"number of original data rows: \", a)\n",
    "#drop rows with any missing data\n",
    "cleanPred = prediction.dropna(how=\"any\", subset=[\"prediction\"])\n",
    "b = cleanPred.count()\n",
    "print(\"number of rows after dropping data with missing value: \", b)\n",
    "print(\"number of missing data: \", a-b)"
   ]
  },
  {
   "cell_type": "code",
   "execution_count": 84,
   "metadata": {},
   "outputs": [
    {
     "name": "stdout",
     "output_type": "stream",
     "text": [
      "Root Mean Square Error (RMSE): 1.057676404384283\n"
     ]
    }
   ],
   "source": [
    "rmse = evaluator.evaluate(cleanPred)\n",
    "print (\"Root Mean Square Error (RMSE):\", rmse)"
   ]
  },
  {
   "cell_type": "code",
   "execution_count": 85,
   "metadata": {},
   "outputs": [],
   "source": [
    "#MODEL-10\n",
    "#Iteration:7 , rank:50 , lambda:0.1"
   ]
  },
  {
   "cell_type": "code",
   "execution_count": 86,
   "metadata": {},
   "outputs": [
    {
     "name": "stdout",
     "output_type": "stream",
     "text": [
      "Training is done!\n"
     ]
    }
   ],
   "source": [
    "#define ALS (Alternating Least Square) as our recommender system\n",
    "als = ALS(maxIter=7, regParam=0.1, rank=50, seed=5034, userCol=\"user_id\", \n",
    "          itemCol=\"book_id\", ratingCol=\"label\")\n",
    "#train our ALS model\n",
    "model = als.fit(train)\n",
    "print(\"Training is done!\")"
   ]
  },
  {
   "cell_type": "code",
   "execution_count": 87,
   "metadata": {},
   "outputs": [
    {
     "name": "stdout",
     "output_type": "stream",
     "text": [
      "testing is done!\n"
     ]
    }
   ],
   "source": [
    "prediction = model.transform(test)\n",
    "print(\"testing is done!\")"
   ]
  },
  {
   "cell_type": "code",
   "execution_count": 88,
   "metadata": {},
   "outputs": [
    {
     "name": "stdout",
     "output_type": "stream",
     "text": [
      "+-------+-------------------------+----------+---------+\n",
      "|user_id|title                    |prediction|trueLabel|\n",
      "+-------+-------------------------+----------+---------+\n",
      "|6397   |Girl with a Pearl Earring|3.486725  |4        |\n",
      "|9427   |Girl with a Pearl Earring|3.5078707 |3        |\n",
      "|11141  |Girl with a Pearl Earring|3.2649279 |3        |\n",
      "|17679  |Girl with a Pearl Earring|3.650122  |4        |\n",
      "|19553  |Girl with a Pearl Earring|4.0878124 |5        |\n",
      "|24354  |Girl with a Pearl Earring|4.006303  |5        |\n",
      "|25517  |Girl with a Pearl Earring|3.7558303 |4        |\n",
      "|28124  |Girl with a Pearl Earring|3.9216251 |5        |\n",
      "|28170  |Girl with a Pearl Earring|3.0778537 |4        |\n",
      "|34061  |Girl with a Pearl Earring|3.261519  |4        |\n",
      "+-------+-------------------------+----------+---------+\n",
      "only showing top 10 rows\n",
      "\n"
     ]
    }
   ],
   "source": [
    "prediction.join(books, \"book_id\").select(\n",
    "    \"user_id\", \"title\", \"prediction\", \"trueLabel\").show(n=10, truncate=False)"
   ]
  },
  {
   "cell_type": "code",
   "execution_count": 89,
   "metadata": {},
   "outputs": [
    {
     "name": "stdout",
     "output_type": "stream",
     "text": [
      "Root Mean Square Error (RMSE): 0.8285763550766462\n"
     ]
    }
   ],
   "source": [
    "#import RegressionEvaluator since we also want to calculate RMSE (Root Mean Square Error)\n",
    "from pyspark.ml.evaluation import RegressionEvaluator\n",
    "\n",
    "evaluator = RegressionEvaluator(\n",
    "    labelCol=\"trueLabel\", predictionCol=\"prediction\", metricName=\"rmse\")\n",
    "rmse = evaluator.evaluate(prediction)\n",
    "print (\"Root Mean Square Error (RMSE):\", rmse)"
   ]
  },
  {
   "cell_type": "code",
   "execution_count": 90,
   "metadata": {},
   "outputs": [
    {
     "name": "stdout",
     "output_type": "stream",
     "text": [
      "number of original data rows:  1792506\n",
      "number of rows after dropping data with missing value:  1792506\n",
      "number of missing data:  0\n"
     ]
    }
   ],
   "source": [
    "prediction.count()\n",
    "a = prediction.count()\n",
    "print(\"number of original data rows: \", a)\n",
    "#drop rows with any missing data\n",
    "cleanPred = prediction.dropna(how=\"any\", subset=[\"prediction\"])\n",
    "b = cleanPred.count()\n",
    "print(\"number of rows after dropping data with missing value: \", b)\n",
    "print(\"number of missing data: \", a-b)"
   ]
  },
  {
   "cell_type": "code",
   "execution_count": 91,
   "metadata": {},
   "outputs": [
    {
     "name": "stdout",
     "output_type": "stream",
     "text": [
      "Root Mean Square Error (RMSE): 0.8285763550766462\n"
     ]
    }
   ],
   "source": [
    "rmse = evaluator.evaluate(cleanPred)\n",
    "print (\"Root Mean Square Error (RMSE):\", rmse)"
   ]
  },
  {
   "cell_type": "code",
   "execution_count": 92,
   "metadata": {},
   "outputs": [],
   "source": [
    "#MODEL-11\n",
    "#Iteration:10 , rank:50 , lambda:0.01"
   ]
  },
  {
   "cell_type": "code",
   "execution_count": 93,
   "metadata": {},
   "outputs": [
    {
     "name": "stdout",
     "output_type": "stream",
     "text": [
      "Training is done!\n"
     ]
    }
   ],
   "source": [
    "#define ALS (Alternating Least Square) as our recommender system\n",
    "als = ALS(maxIter=10, regParam=0.01, rank=50, seed=5034, userCol=\"user_id\", \n",
    "          itemCol=\"book_id\", ratingCol=\"label\")\n",
    "#train our ALS model\n",
    "model = als.fit(train)\n",
    "print(\"Training is done!\")"
   ]
  },
  {
   "cell_type": "code",
   "execution_count": 94,
   "metadata": {},
   "outputs": [
    {
     "name": "stdout",
     "output_type": "stream",
     "text": [
      "testing is done!\n"
     ]
    }
   ],
   "source": [
    "prediction = model.transform(test)\n",
    "print(\"testing is done!\")"
   ]
  },
  {
   "cell_type": "code",
   "execution_count": 95,
   "metadata": {},
   "outputs": [
    {
     "name": "stdout",
     "output_type": "stream",
     "text": [
      "+-------+-------------------------+----------+---------+\n",
      "|user_id|title                    |prediction|trueLabel|\n",
      "+-------+-------------------------+----------+---------+\n",
      "|6397   |Girl with a Pearl Earring|3.900185  |4        |\n",
      "|9427   |Girl with a Pearl Earring|4.31927   |3        |\n",
      "|11141  |Girl with a Pearl Earring|4.323629  |3        |\n",
      "|17679  |Girl with a Pearl Earring|5.1359105 |4        |\n",
      "|19553  |Girl with a Pearl Earring|4.6337895 |5        |\n",
      "|24354  |Girl with a Pearl Earring|4.7945538 |5        |\n",
      "|25517  |Girl with a Pearl Earring|2.8947668 |4        |\n",
      "|28124  |Girl with a Pearl Earring|4.0156755 |5        |\n",
      "|28170  |Girl with a Pearl Earring|3.3050354 |4        |\n",
      "|34061  |Girl with a Pearl Earring|3.9268    |4        |\n",
      "+-------+-------------------------+----------+---------+\n",
      "only showing top 10 rows\n",
      "\n"
     ]
    }
   ],
   "source": [
    "prediction.join(books, \"book_id\").select(\n",
    "    \"user_id\", \"title\", \"prediction\", \"trueLabel\").show(n=10, truncate=False)"
   ]
  },
  {
   "cell_type": "code",
   "execution_count": 96,
   "metadata": {},
   "outputs": [
    {
     "name": "stdout",
     "output_type": "stream",
     "text": [
      "Root Mean Square Error (RMSE): 1.0641185526321322\n"
     ]
    }
   ],
   "source": [
    "#import RegressionEvaluator since we also want to calculate RMSE (Root Mean Square Error)\n",
    "from pyspark.ml.evaluation import RegressionEvaluator\n",
    "\n",
    "evaluator = RegressionEvaluator(\n",
    "    labelCol=\"trueLabel\", predictionCol=\"prediction\", metricName=\"rmse\")\n",
    "rmse = evaluator.evaluate(prediction)\n",
    "print (\"Root Mean Square Error (RMSE):\", rmse)"
   ]
  },
  {
   "cell_type": "code",
   "execution_count": 97,
   "metadata": {},
   "outputs": [
    {
     "name": "stdout",
     "output_type": "stream",
     "text": [
      "number of original data rows:  1792506\n",
      "number of rows after dropping data with missing value:  1792506\n",
      "number of missing data:  0\n"
     ]
    }
   ],
   "source": [
    "prediction.count()\n",
    "a = prediction.count()\n",
    "print(\"number of original data rows: \", a)\n",
    "#drop rows with any missing data\n",
    "cleanPred = prediction.dropna(how=\"any\", subset=[\"prediction\"])\n",
    "b = cleanPred.count()\n",
    "print(\"number of rows after dropping data with missing value: \", b)\n",
    "print(\"number of missing data: \", a-b)"
   ]
  },
  {
   "cell_type": "code",
   "execution_count": 98,
   "metadata": {},
   "outputs": [
    {
     "name": "stdout",
     "output_type": "stream",
     "text": [
      "Root Mean Square Error (RMSE): 1.0641185526321322\n"
     ]
    }
   ],
   "source": [
    "rmse = evaluator.evaluate(cleanPred)\n",
    "print (\"Root Mean Square Error (RMSE):\", rmse)"
   ]
  },
  {
   "cell_type": "code",
   "execution_count": 99,
   "metadata": {},
   "outputs": [],
   "source": [
    "#MODEL-12\n",
    "#Iteration:10 , rank:50 , lambda:0.1"
   ]
  },
  {
   "cell_type": "code",
   "execution_count": 100,
   "metadata": {},
   "outputs": [
    {
     "name": "stdout",
     "output_type": "stream",
     "text": [
      "Training is done!\n"
     ]
    }
   ],
   "source": [
    "#define ALS (Alternating Least Square) as our recommender system\n",
    "als = ALS(maxIter=10, regParam=0.1, rank=50, seed=5034, userCol=\"user_id\", \n",
    "          itemCol=\"book_id\", ratingCol=\"label\")\n",
    "#train our ALS model\n",
    "model = als.fit(train)\n",
    "print(\"Training is done!\")"
   ]
  },
  {
   "cell_type": "code",
   "execution_count": 101,
   "metadata": {},
   "outputs": [
    {
     "name": "stdout",
     "output_type": "stream",
     "text": [
      "testing is done!\n"
     ]
    }
   ],
   "source": [
    "prediction = model.transform(test)\n",
    "print(\"testing is done!\")"
   ]
  },
  {
   "cell_type": "code",
   "execution_count": 102,
   "metadata": {},
   "outputs": [
    {
     "name": "stdout",
     "output_type": "stream",
     "text": [
      "+-------+-------------------------+----------+---------+\n",
      "|user_id|title                    |prediction|trueLabel|\n",
      "+-------+-------------------------+----------+---------+\n",
      "|6397   |Girl with a Pearl Earring|3.5005503 |4        |\n",
      "|9427   |Girl with a Pearl Earring|3.5089886 |3        |\n",
      "|11141  |Girl with a Pearl Earring|3.2703588 |3        |\n",
      "|17679  |Girl with a Pearl Earring|3.694698  |4        |\n",
      "|19553  |Girl with a Pearl Earring|4.115075  |5        |\n",
      "|24354  |Girl with a Pearl Earring|4.0218763 |5        |\n",
      "|25517  |Girl with a Pearl Earring|3.8040495 |4        |\n",
      "|28124  |Girl with a Pearl Earring|3.9610968 |5        |\n",
      "|28170  |Girl with a Pearl Earring|3.0920773 |4        |\n",
      "|34061  |Girl with a Pearl Earring|3.2811012 |4        |\n",
      "+-------+-------------------------+----------+---------+\n",
      "only showing top 10 rows\n",
      "\n"
     ]
    }
   ],
   "source": [
    "prediction.join(books, \"book_id\").select(\n",
    "    \"user_id\", \"title\", \"prediction\", \"trueLabel\").show(n=10, truncate=False)"
   ]
  },
  {
   "cell_type": "code",
   "execution_count": 103,
   "metadata": {},
   "outputs": [
    {
     "name": "stdout",
     "output_type": "stream",
     "text": [
      "Root Mean Square Error (RMSE): 0.8208474859434323\n"
     ]
    }
   ],
   "source": [
    "#import RegressionEvaluator since we also want to calculate RMSE (Root Mean Square Error)\n",
    "from pyspark.ml.evaluation import RegressionEvaluator\n",
    "\n",
    "evaluator = RegressionEvaluator(\n",
    "    labelCol=\"trueLabel\", predictionCol=\"prediction\", metricName=\"rmse\")\n",
    "rmse = evaluator.evaluate(prediction)\n",
    "print (\"Root Mean Square Error (RMSE):\", rmse)"
   ]
  },
  {
   "cell_type": "code",
   "execution_count": 104,
   "metadata": {},
   "outputs": [
    {
     "name": "stdout",
     "output_type": "stream",
     "text": [
      "number of original data rows:  1792506\n",
      "number of rows after dropping data with missing value:  1792506\n",
      "number of missing data:  0\n"
     ]
    }
   ],
   "source": [
    "prediction.count()\n",
    "a = prediction.count()\n",
    "print(\"number of original data rows: \", a)\n",
    "#drop rows with any missing data\n",
    "cleanPred = prediction.dropna(how=\"any\", subset=[\"prediction\"])\n",
    "b = cleanPred.count()\n",
    "print(\"number of rows after dropping data with missing value: \", b)\n",
    "print(\"number of missing data: \", a-b)"
   ]
  },
  {
   "cell_type": "code",
   "execution_count": 105,
   "metadata": {},
   "outputs": [
    {
     "name": "stdout",
     "output_type": "stream",
     "text": [
      "Root Mean Square Error (RMSE): 0.8208474859434323\n"
     ]
    }
   ],
   "source": [
    "rmse = evaluator.evaluate(cleanPred)\n",
    "print (\"Root Mean Square Error (RMSE):\", rmse)"
   ]
  },
  {
   "cell_type": "code",
   "execution_count": 4,
   "metadata": {},
   "outputs": [],
   "source": [
    "#MODEL-13\n",
    "#Iteration:5 , rank:100 , lambda:0.01"
   ]
  },
  {
   "cell_type": "code",
   "execution_count": 5,
   "metadata": {},
   "outputs": [
    {
     "name": "stdout",
     "output_type": "stream",
     "text": [
      "Training is done!\n"
     ]
    }
   ],
   "source": [
    "#define ALS (Alternating Least Square) as our recommender system\n",
    "als = ALS(maxIter=5, regParam=0.01, rank=100, seed=5034, userCol=\"user_id\", \n",
    "          itemCol=\"book_id\", ratingCol=\"label\")\n",
    "#train our ALS model\n",
    "model = als.fit(train)\n",
    "print(\"Training is done!\")"
   ]
  },
  {
   "cell_type": "code",
   "execution_count": 6,
   "metadata": {},
   "outputs": [
    {
     "name": "stdout",
     "output_type": "stream",
     "text": [
      "testing is done!\n"
     ]
    }
   ],
   "source": [
    "prediction = model.transform(test)\n",
    "print(\"testing is done!\")"
   ]
  },
  {
   "cell_type": "code",
   "execution_count": 7,
   "metadata": {},
   "outputs": [
    {
     "name": "stdout",
     "output_type": "stream",
     "text": [
      "+-------+-------------------------+----------+---------+\n",
      "|user_id|title                    |prediction|trueLabel|\n",
      "+-------+-------------------------+----------+---------+\n",
      "|1645   |Girl with a Pearl Earring|4.400079  |4        |\n",
      "|11317  |Girl with a Pearl Earring|2.5436683 |4        |\n",
      "|17679  |Girl with a Pearl Earring|4.7221537 |4        |\n",
      "|22097  |Girl with a Pearl Earring|4.9286294 |4        |\n",
      "|35982  |Girl with a Pearl Earring|2.674805  |3        |\n",
      "|43714  |Girl with a Pearl Earring|4.698935  |4        |\n",
      "|50223  |Girl with a Pearl Earring|4.4738955 |4        |\n",
      "|51123  |Girl with a Pearl Earring|3.2991586 |3        |\n",
      "|18956  |Girl with a Pearl Earring|3.7982621 |3        |\n",
      "|19351  |Girl with a Pearl Earring|3.1275558 |2        |\n",
      "+-------+-------------------------+----------+---------+\n",
      "only showing top 10 rows\n",
      "\n"
     ]
    }
   ],
   "source": [
    "prediction.join(books, \"book_id\").select(\n",
    "    \"user_id\", \"title\", \"prediction\", \"trueLabel\").show(n=10, truncate=False)"
   ]
  },
  {
   "cell_type": "code",
   "execution_count": 8,
   "metadata": {},
   "outputs": [
    {
     "name": "stdout",
     "output_type": "stream",
     "text": [
      "Root Mean Square Error (RMSE): 1.166609755409354\n"
     ]
    }
   ],
   "source": [
    "#import RegressionEvaluator since we also want to calculate RMSE (Root Mean Square Error)\n",
    "from pyspark.ml.evaluation import RegressionEvaluator\n",
    "\n",
    "evaluator = RegressionEvaluator(\n",
    "    labelCol=\"trueLabel\", predictionCol=\"prediction\", metricName=\"rmse\")\n",
    "rmse = evaluator.evaluate(prediction)\n",
    "print (\"Root Mean Square Error (RMSE):\", rmse)"
   ]
  },
  {
   "cell_type": "code",
   "execution_count": 9,
   "metadata": {},
   "outputs": [
    {
     "name": "stdout",
     "output_type": "stream",
     "text": [
      "number of original data rows:  1793497\n",
      "number of rows after dropping data with missing value:  1793497\n",
      "number of missing data:  0\n"
     ]
    }
   ],
   "source": [
    "prediction.count()\n",
    "a = prediction.count()\n",
    "print(\"number of original data rows: \", a)\n",
    "#drop rows with any missing data\n",
    "cleanPred = prediction.dropna(how=\"any\", subset=[\"prediction\"])\n",
    "b = cleanPred.count()\n",
    "print(\"number of rows after dropping data with missing value: \", b)\n",
    "print(\"number of missing data: \", a-b)"
   ]
  },
  {
   "cell_type": "code",
   "execution_count": 10,
   "metadata": {},
   "outputs": [
    {
     "name": "stdout",
     "output_type": "stream",
     "text": [
      "Root Mean Square Error (RMSE): 1.166609755409354\n"
     ]
    }
   ],
   "source": [
    "rmse = evaluator.evaluate(cleanPred)\n",
    "print (\"Root Mean Square Error (RMSE):\", rmse)"
   ]
  },
  {
   "cell_type": "code",
   "execution_count": 11,
   "metadata": {},
   "outputs": [],
   "source": [
    "#MODEL-14\n",
    "#Iteration:5 , rank:100 , lambda:0.1"
   ]
  },
  {
   "cell_type": "code",
   "execution_count": 12,
   "metadata": {},
   "outputs": [
    {
     "name": "stdout",
     "output_type": "stream",
     "text": [
      "Training is done!\n"
     ]
    }
   ],
   "source": [
    "#define ALS (Alternating Least Square) as our recommender system\n",
    "als = ALS(maxIter=5, regParam=0.1, rank=100, seed=5034, userCol=\"user_id\", \n",
    "          itemCol=\"book_id\", ratingCol=\"label\")\n",
    "#train our ALS model\n",
    "model = als.fit(train)\n",
    "print(\"Training is done!\")"
   ]
  },
  {
   "cell_type": "code",
   "execution_count": 13,
   "metadata": {},
   "outputs": [
    {
     "name": "stdout",
     "output_type": "stream",
     "text": [
      "testing is done!\n"
     ]
    }
   ],
   "source": [
    "prediction = model.transform(test)\n",
    "print(\"testing is done!\")"
   ]
  },
  {
   "cell_type": "code",
   "execution_count": 14,
   "metadata": {},
   "outputs": [
    {
     "name": "stdout",
     "output_type": "stream",
     "text": [
      "+-------+-------------------------+----------+---------+\n",
      "|user_id|title                    |prediction|trueLabel|\n",
      "+-------+-------------------------+----------+---------+\n",
      "|1645   |Girl with a Pearl Earring|3.6051164 |4        |\n",
      "|11317  |Girl with a Pearl Earring|3.2936137 |4        |\n",
      "|17679  |Girl with a Pearl Earring|3.686012  |4        |\n",
      "|22097  |Girl with a Pearl Earring|2.9943507 |4        |\n",
      "|35982  |Girl with a Pearl Earring|3.1101105 |3        |\n",
      "|43714  |Girl with a Pearl Earring|3.407099  |4        |\n",
      "|50223  |Girl with a Pearl Earring|3.9569595 |4        |\n",
      "|51123  |Girl with a Pearl Earring|3.4185061 |3        |\n",
      "|18956  |Girl with a Pearl Earring|3.408353  |3        |\n",
      "|19351  |Girl with a Pearl Earring|3.2190604 |2        |\n",
      "+-------+-------------------------+----------+---------+\n",
      "only showing top 10 rows\n",
      "\n"
     ]
    }
   ],
   "source": [
    "prediction.join(books, \"book_id\").select(\n",
    "    \"user_id\", \"title\", \"prediction\", \"trueLabel\").show(n=10, truncate=False)"
   ]
  },
  {
   "cell_type": "code",
   "execution_count": 15,
   "metadata": {},
   "outputs": [
    {
     "name": "stdout",
     "output_type": "stream",
     "text": [
      "Root Mean Square Error (RMSE): 0.8419309860283092\n"
     ]
    }
   ],
   "source": [
    "#import RegressionEvaluator since we also want to calculate RMSE (Root Mean Square Error)\n",
    "from pyspark.ml.evaluation import RegressionEvaluator\n",
    "\n",
    "evaluator = RegressionEvaluator(\n",
    "    labelCol=\"trueLabel\", predictionCol=\"prediction\", metricName=\"rmse\")\n",
    "rmse = evaluator.evaluate(prediction)\n",
    "print (\"Root Mean Square Error (RMSE):\", rmse)"
   ]
  },
  {
   "cell_type": "code",
   "execution_count": 16,
   "metadata": {},
   "outputs": [
    {
     "name": "stdout",
     "output_type": "stream",
     "text": [
      "number of original data rows:  1793497\n",
      "number of rows after dropping data with missing value:  1793497\n",
      "number of missing data:  0\n"
     ]
    }
   ],
   "source": [
    "prediction.count()\n",
    "a = prediction.count()\n",
    "print(\"number of original data rows: \", a)\n",
    "#drop rows with any missing data\n",
    "cleanPred = prediction.dropna(how=\"any\", subset=[\"prediction\"])\n",
    "b = cleanPred.count()\n",
    "print(\"number of rows after dropping data with missing value: \", b)\n",
    "print(\"number of missing data: \", a-b)"
   ]
  },
  {
   "cell_type": "code",
   "execution_count": 17,
   "metadata": {},
   "outputs": [
    {
     "name": "stdout",
     "output_type": "stream",
     "text": [
      "Root Mean Square Error (RMSE): 0.8419309860283092\n"
     ]
    }
   ],
   "source": [
    "rmse = evaluator.evaluate(cleanPred)\n",
    "print (\"Root Mean Square Error (RMSE):\", rmse)"
   ]
  },
  {
   "cell_type": "code",
   "execution_count": 18,
   "metadata": {},
   "outputs": [],
   "source": [
    "#MODEL-15\n",
    "#Iteration:7 , rank:100 , lambda:0.01"
   ]
  },
  {
   "cell_type": "code",
   "execution_count": 19,
   "metadata": {},
   "outputs": [
    {
     "name": "stdout",
     "output_type": "stream",
     "text": [
      "Training is done!\n"
     ]
    }
   ],
   "source": [
    "#define ALS (Alternating Least Square) as our recommender system\n",
    "als = ALS(maxIter=7, regParam=0.01, rank=100, seed=5034, userCol=\"user_id\", \n",
    "          itemCol=\"book_id\", ratingCol=\"label\")\n",
    "#train our ALS model\n",
    "model = als.fit(train)\n",
    "print(\"Training is done!\")"
   ]
  },
  {
   "cell_type": "code",
   "execution_count": 20,
   "metadata": {},
   "outputs": [
    {
     "name": "stdout",
     "output_type": "stream",
     "text": [
      "testing is done!\n"
     ]
    }
   ],
   "source": [
    "prediction = model.transform(test)\n",
    "print(\"testing is done!\")"
   ]
  },
  {
   "cell_type": "code",
   "execution_count": 21,
   "metadata": {},
   "outputs": [
    {
     "name": "stdout",
     "output_type": "stream",
     "text": [
      "+-------+-------------------------+----------+---------+\n",
      "|user_id|title                    |prediction|trueLabel|\n",
      "+-------+-------------------------+----------+---------+\n",
      "|1645   |Girl with a Pearl Earring|4.19898   |4        |\n",
      "|11317  |Girl with a Pearl Earring|2.8518567 |4        |\n",
      "|17679  |Girl with a Pearl Earring|4.941456  |4        |\n",
      "|22097  |Girl with a Pearl Earring|5.460086  |4        |\n",
      "|35982  |Girl with a Pearl Earring|2.7786431 |3        |\n",
      "|43714  |Girl with a Pearl Earring|4.742768  |4        |\n",
      "|50223  |Girl with a Pearl Earring|4.1394835 |4        |\n",
      "|51123  |Girl with a Pearl Earring|2.966195  |3        |\n",
      "|18956  |Girl with a Pearl Earring|3.9606678 |3        |\n",
      "|19351  |Girl with a Pearl Earring|3.110226  |2        |\n",
      "+-------+-------------------------+----------+---------+\n",
      "only showing top 10 rows\n",
      "\n"
     ]
    }
   ],
   "source": [
    "prediction.join(books, \"book_id\").select(\n",
    "    \"user_id\", \"title\", \"prediction\", \"trueLabel\").show(n=10, truncate=False)"
   ]
  },
  {
   "cell_type": "code",
   "execution_count": 22,
   "metadata": {},
   "outputs": [
    {
     "name": "stdout",
     "output_type": "stream",
     "text": [
      "Root Mean Square Error (RMSE): 1.0853454535004092\n"
     ]
    }
   ],
   "source": [
    "#import RegressionEvaluator since we also want to calculate RMSE (Root Mean Square Error)\n",
    "from pyspark.ml.evaluation import RegressionEvaluator\n",
    "\n",
    "evaluator = RegressionEvaluator(\n",
    "    labelCol=\"trueLabel\", predictionCol=\"prediction\", metricName=\"rmse\")\n",
    "rmse = evaluator.evaluate(prediction)\n",
    "print (\"Root Mean Square Error (RMSE):\", rmse)"
   ]
  },
  {
   "cell_type": "code",
   "execution_count": 23,
   "metadata": {},
   "outputs": [
    {
     "name": "stdout",
     "output_type": "stream",
     "text": [
      "number of original data rows:  1793497\n",
      "number of rows after dropping data with missing value:  1793497\n",
      "number of missing data:  0\n"
     ]
    }
   ],
   "source": [
    "prediction.count()\n",
    "a = prediction.count()\n",
    "print(\"number of original data rows: \", a)\n",
    "#drop rows with any missing data\n",
    "cleanPred = prediction.dropna(how=\"any\", subset=[\"prediction\"])\n",
    "b = cleanPred.count()\n",
    "print(\"number of rows after dropping data with missing value: \", b)\n",
    "print(\"number of missing data: \", a-b)"
   ]
  },
  {
   "cell_type": "code",
   "execution_count": 24,
   "metadata": {},
   "outputs": [
    {
     "name": "stdout",
     "output_type": "stream",
     "text": [
      "Root Mean Square Error (RMSE): 1.0853454535004092\n"
     ]
    }
   ],
   "source": [
    "rmse = evaluator.evaluate(cleanPred)\n",
    "print (\"Root Mean Square Error (RMSE):\", rmse)"
   ]
  },
  {
   "cell_type": "code",
   "execution_count": 25,
   "metadata": {},
   "outputs": [],
   "source": [
    "#MODEL-16\n",
    "#Iteration:7 , rank:100 , lambda:0.01"
   ]
  },
  {
   "cell_type": "code",
   "execution_count": 26,
   "metadata": {},
   "outputs": [
    {
     "name": "stdout",
     "output_type": "stream",
     "text": [
      "Training is done!\n"
     ]
    }
   ],
   "source": [
    "#define ALS (Alternating Least Square) as our recommender system\n",
    "als = ALS(maxIter=7, regParam=0.1, rank=100, seed=5034, userCol=\"user_id\", \n",
    "          itemCol=\"book_id\", ratingCol=\"label\")\n",
    "#train our ALS model\n",
    "model = als.fit(train)\n",
    "print(\"Training is done!\")"
   ]
  },
  {
   "cell_type": "code",
   "execution_count": 27,
   "metadata": {},
   "outputs": [
    {
     "name": "stdout",
     "output_type": "stream",
     "text": [
      "testing is done!\n"
     ]
    }
   ],
   "source": [
    "prediction = model.transform(test)\n",
    "print(\"testing is done!\")"
   ]
  },
  {
   "cell_type": "code",
   "execution_count": 28,
   "metadata": {},
   "outputs": [
    {
     "name": "stdout",
     "output_type": "stream",
     "text": [
      "+-------+-------------------------+----------+---------+\n",
      "|user_id|title                    |prediction|trueLabel|\n",
      "+-------+-------------------------+----------+---------+\n",
      "|1645   |Girl with a Pearl Earring|3.64518   |4        |\n",
      "|11317  |Girl with a Pearl Earring|3.2886539 |4        |\n",
      "|17679  |Girl with a Pearl Earring|3.7284868 |4        |\n",
      "|22097  |Girl with a Pearl Earring|3.0311985 |4        |\n",
      "|35982  |Girl with a Pearl Earring|3.138359  |3        |\n",
      "|43714  |Girl with a Pearl Earring|3.411844  |4        |\n",
      "|50223  |Girl with a Pearl Earring|3.98348   |4        |\n",
      "|51123  |Girl with a Pearl Earring|3.408735  |3        |\n",
      "|18956  |Girl with a Pearl Earring|3.4357483 |3        |\n",
      "|19351  |Girl with a Pearl Earring|3.2342303 |2        |\n",
      "+-------+-------------------------+----------+---------+\n",
      "only showing top 10 rows\n",
      "\n"
     ]
    }
   ],
   "source": [
    "prediction.join(books, \"book_id\").select(\n",
    "    \"user_id\", \"title\", \"prediction\", \"trueLabel\").show(n=10, truncate=False)"
   ]
  },
  {
   "cell_type": "code",
   "execution_count": 29,
   "metadata": {},
   "outputs": [
    {
     "name": "stdout",
     "output_type": "stream",
     "text": [
      "Root Mean Square Error (RMSE): 0.8296814134361337\n"
     ]
    }
   ],
   "source": [
    "#import RegressionEvaluator since we also want to calculate RMSE (Root Mean Square Error)\n",
    "from pyspark.ml.evaluation import RegressionEvaluator\n",
    "\n",
    "evaluator = RegressionEvaluator(\n",
    "    labelCol=\"trueLabel\", predictionCol=\"prediction\", metricName=\"rmse\")\n",
    "rmse = evaluator.evaluate(prediction)\n",
    "print (\"Root Mean Square Error (RMSE):\", rmse)"
   ]
  },
  {
   "cell_type": "code",
   "execution_count": 30,
   "metadata": {},
   "outputs": [
    {
     "name": "stdout",
     "output_type": "stream",
     "text": [
      "number of original data rows:  1793497\n",
      "number of rows after dropping data with missing value:  1793497\n",
      "number of missing data:  0\n"
     ]
    }
   ],
   "source": [
    "prediction.count()\n",
    "a = prediction.count()\n",
    "print(\"number of original data rows: \", a)\n",
    "#drop rows with any missing data\n",
    "cleanPred = prediction.dropna(how=\"any\", subset=[\"prediction\"])\n",
    "b = cleanPred.count()\n",
    "print(\"number of rows after dropping data with missing value: \", b)\n",
    "print(\"number of missing data: \", a-b)"
   ]
  },
  {
   "cell_type": "code",
   "execution_count": 31,
   "metadata": {},
   "outputs": [
    {
     "name": "stdout",
     "output_type": "stream",
     "text": [
      "Root Mean Square Error (RMSE): 0.8296814134361337\n"
     ]
    }
   ],
   "source": [
    "rmse = evaluator.evaluate(cleanPred)\n",
    "print (\"Root Mean Square Error (RMSE):\", rmse)"
   ]
  },
  {
   "cell_type": "code",
   "execution_count": 32,
   "metadata": {},
   "outputs": [],
   "source": [
    "#MODEL-17\n",
    "#Iteration:10 , rank:100 , lambda:0.1"
   ]
  },
  {
   "cell_type": "code",
   "execution_count": 33,
   "metadata": {},
   "outputs": [
    {
     "name": "stdout",
     "output_type": "stream",
     "text": [
      "Training is done!\n"
     ]
    }
   ],
   "source": [
    "#define ALS (Alternating Least Square) as our recommender system\n",
    "als = ALS(maxIter=10, regParam=0.01, rank=100, seed=5034, userCol=\"user_id\", \n",
    "          itemCol=\"book_id\", ratingCol=\"label\")\n",
    "#train our ALS model\n",
    "model = als.fit(train)\n",
    "print(\"Training is done!\")"
   ]
  },
  {
   "cell_type": "code",
   "execution_count": 34,
   "metadata": {},
   "outputs": [
    {
     "name": "stdout",
     "output_type": "stream",
     "text": [
      "testing is done!\n"
     ]
    }
   ],
   "source": [
    "prediction = model.transform(test)\n",
    "print(\"testing is done!\")"
   ]
  },
  {
   "cell_type": "code",
   "execution_count": 35,
   "metadata": {},
   "outputs": [
    {
     "name": "stdout",
     "output_type": "stream",
     "text": [
      "+-------+-------------------------+----------+---------+\n",
      "|user_id|title                    |prediction|trueLabel|\n",
      "+-------+-------------------------+----------+---------+\n",
      "|1645   |Girl with a Pearl Earring|3.883405  |4        |\n",
      "|11317  |Girl with a Pearl Earring|3.1973774 |4        |\n",
      "|17679  |Girl with a Pearl Earring|4.9669313 |4        |\n",
      "|22097  |Girl with a Pearl Earring|5.6252174 |4        |\n",
      "|35982  |Girl with a Pearl Earring|2.869862  |3        |\n",
      "|43714  |Girl with a Pearl Earring|4.703258  |4        |\n",
      "|50223  |Girl with a Pearl Earring|3.8566482 |4        |\n",
      "|51123  |Girl with a Pearl Earring|2.5803382 |3        |\n",
      "|18956  |Girl with a Pearl Earring|3.85621   |3        |\n",
      "|19351  |Girl with a Pearl Earring|3.1729295 |2        |\n",
      "+-------+-------------------------+----------+---------+\n",
      "only showing top 10 rows\n",
      "\n"
     ]
    }
   ],
   "source": [
    "prediction.join(books, \"book_id\").select(\n",
    "    \"user_id\", \"title\", \"prediction\", \"trueLabel\").show(n=10, truncate=False)"
   ]
  },
  {
   "cell_type": "code",
   "execution_count": 36,
   "metadata": {},
   "outputs": [
    {
     "name": "stdout",
     "output_type": "stream",
     "text": [
      "Root Mean Square Error (RMSE): 1.0358309119519484\n"
     ]
    }
   ],
   "source": [
    "#import RegressionEvaluator since we also want to calculate RMSE (Root Mean Square Error)\n",
    "from pyspark.ml.evaluation import RegressionEvaluator\n",
    "\n",
    "evaluator = RegressionEvaluator(\n",
    "    labelCol=\"trueLabel\", predictionCol=\"prediction\", metricName=\"rmse\")\n",
    "rmse = evaluator.evaluate(prediction)\n",
    "print (\"Root Mean Square Error (RMSE):\", rmse)"
   ]
  },
  {
   "cell_type": "code",
   "execution_count": 37,
   "metadata": {},
   "outputs": [
    {
     "name": "stdout",
     "output_type": "stream",
     "text": [
      "number of original data rows:  1793497\n",
      "number of rows after dropping data with missing value:  1793497\n",
      "number of missing data:  0\n"
     ]
    }
   ],
   "source": [
    "prediction.count()\n",
    "a = prediction.count()\n",
    "print(\"number of original data rows: \", a)\n",
    "#drop rows with any missing data\n",
    "cleanPred = prediction.dropna(how=\"any\", subset=[\"prediction\"])\n",
    "b = cleanPred.count()\n",
    "print(\"number of rows after dropping data with missing value: \", b)\n",
    "print(\"number of missing data: \", a-b)"
   ]
  },
  {
   "cell_type": "code",
   "execution_count": 38,
   "metadata": {},
   "outputs": [
    {
     "name": "stdout",
     "output_type": "stream",
     "text": [
      "Root Mean Square Error (RMSE): 1.0358309119519484\n"
     ]
    }
   ],
   "source": [
    "rmse = evaluator.evaluate(cleanPred)\n",
    "print (\"Root Mean Square Error (RMSE):\", rmse)"
   ]
  },
  {
   "cell_type": "code",
   "execution_count": 39,
   "metadata": {},
   "outputs": [],
   "source": [
    "#MODEL-18\n",
    "#Iteration:10 , rank:100 , lambda:0.1"
   ]
  },
  {
   "cell_type": "code",
   "execution_count": 40,
   "metadata": {},
   "outputs": [
    {
     "name": "stdout",
     "output_type": "stream",
     "text": [
      "Training is done!\n"
     ]
    }
   ],
   "source": [
    "#define ALS (Alternating Least Square) as our recommender system\n",
    "als = ALS(maxIter=10, regParam=0.1, rank=100, seed=5034, userCol=\"user_id\", \n",
    "          itemCol=\"book_id\", ratingCol=\"label\")\n",
    "#train our ALS model\n",
    "model = als.fit(train)\n",
    "print(\"Training is done!\")"
   ]
  },
  {
   "cell_type": "code",
   "execution_count": 41,
   "metadata": {},
   "outputs": [
    {
     "name": "stdout",
     "output_type": "stream",
     "text": [
      "testing is done!\n"
     ]
    }
   ],
   "source": [
    "prediction = model.transform(test)\n",
    "print(\"testing is done!\")"
   ]
  },
  {
   "cell_type": "code",
   "execution_count": 42,
   "metadata": {},
   "outputs": [
    {
     "name": "stdout",
     "output_type": "stream",
     "text": [
      "+-------+-------------------------+----------+---------+\n",
      "|user_id|title                    |prediction|trueLabel|\n",
      "+-------+-------------------------+----------+---------+\n",
      "|1645   |Girl with a Pearl Earring|3.6736503 |4        |\n",
      "|11317  |Girl with a Pearl Earring|3.286408  |4        |\n",
      "|17679  |Girl with a Pearl Earring|3.7588131 |4        |\n",
      "|22097  |Girl with a Pearl Earring|3.0609975 |4        |\n",
      "|35982  |Girl with a Pearl Earring|3.162033  |3        |\n",
      "|43714  |Girl with a Pearl Earring|3.436943  |4        |\n",
      "|50223  |Girl with a Pearl Earring|4.025369  |4        |\n",
      "|51123  |Girl with a Pearl Earring|3.4108334 |3        |\n",
      "|18956  |Girl with a Pearl Earring|3.4632647 |3        |\n",
      "|19351  |Girl with a Pearl Earring|3.2526062 |2        |\n",
      "+-------+-------------------------+----------+---------+\n",
      "only showing top 10 rows\n",
      "\n"
     ]
    }
   ],
   "source": [
    "prediction.join(books, \"book_id\").select(\n",
    "    \"user_id\", \"title\", \"prediction\", \"trueLabel\").show(n=10, truncate=False)"
   ]
  },
  {
   "cell_type": "code",
   "execution_count": 43,
   "metadata": {},
   "outputs": [
    {
     "name": "stdout",
     "output_type": "stream",
     "text": [
      "Root Mean Square Error (RMSE): 0.8208026711835531\n"
     ]
    }
   ],
   "source": [
    "#import RegressionEvaluator since we also want to calculate RMSE (Root Mean Square Error)\n",
    "from pyspark.ml.evaluation import RegressionEvaluator\n",
    "\n",
    "evaluator = RegressionEvaluator(\n",
    "    labelCol=\"trueLabel\", predictionCol=\"prediction\", metricName=\"rmse\")\n",
    "rmse = evaluator.evaluate(prediction)\n",
    "print (\"Root Mean Square Error (RMSE):\", rmse)"
   ]
  },
  {
   "cell_type": "code",
   "execution_count": 44,
   "metadata": {},
   "outputs": [
    {
     "name": "stdout",
     "output_type": "stream",
     "text": [
      "number of original data rows:  1793497\n",
      "number of rows after dropping data with missing value:  1793497\n",
      "number of missing data:  0\n"
     ]
    }
   ],
   "source": [
    "prediction.count()\n",
    "a = prediction.count()\n",
    "print(\"number of original data rows: \", a)\n",
    "#drop rows with any missing data\n",
    "cleanPred = prediction.dropna(how=\"any\", subset=[\"prediction\"])\n",
    "b = cleanPred.count()\n",
    "print(\"number of rows after dropping data with missing value: \", b)\n",
    "print(\"number of missing data: \", a-b)"
   ]
  },
  {
   "cell_type": "code",
   "execution_count": 45,
   "metadata": {},
   "outputs": [
    {
     "name": "stdout",
     "output_type": "stream",
     "text": [
      "Root Mean Square Error (RMSE): 0.8208026711835531\n"
     ]
    }
   ],
   "source": [
    "rmse = evaluator.evaluate(cleanPred)\n",
    "print (\"Root Mean Square Error (RMSE):\", rmse)"
   ]
  },
  {
   "cell_type": "code",
   "execution_count": null,
   "metadata": {},
   "outputs": [],
   "source": []
  },
  {
   "cell_type": "code",
   "execution_count": null,
   "metadata": {},
   "outputs": [],
   "source": []
  },
  {
   "cell_type": "code",
   "execution_count": null,
   "metadata": {},
   "outputs": [],
   "source": []
  },
  {
   "cell_type": "code",
   "execution_count": null,
   "metadata": {},
   "outputs": [],
   "source": []
  },
  {
   "cell_type": "code",
   "execution_count": null,
   "metadata": {},
   "outputs": [],
   "source": []
  },
  {
   "cell_type": "code",
   "execution_count": null,
   "metadata": {},
   "outputs": [],
   "source": []
  }
 ],
 "metadata": {
  "kernelspec": {
   "display_name": "Python 3",
   "language": "python",
   "name": "python3"
  },
  "language_info": {
   "codemirror_mode": {
    "name": "ipython",
    "version": 3
   },
   "file_extension": ".py",
   "mimetype": "text/x-python",
   "name": "python",
   "nbconvert_exporter": "python",
   "pygments_lexer": "ipython3",
   "version": "3.8.2"
  }
 },
 "nbformat": 4,
 "nbformat_minor": 4
}
